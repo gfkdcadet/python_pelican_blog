{
 "cells": [
  {
   "cell_type": "markdown",
   "metadata": {
    "collapsed": true
   },
   "source": [
    "# Project Luther - Predicting Movie Lifetime Gross"
   ]
  },
  {
   "cell_type": "markdown",
   "metadata": {},
   "source": [
    "# Table of contents\n",
    "1. [Introduction](#introduction)\n",
    "2. [Webscrape Movie Reviews From IMBD](#Webscrape Movie Reviews From IMBD)\n",
    "3. [Merging IMBD and BoxOfficeMojo Data](#Merging IMBD and BoxOfficeMojo Data)\n",
    "4. [Predictive Models](#Predictive Models)\n",
    "4. [Simple Test Case](#Simple Test Case)"
   ]
  },
  {
   "cell_type": "markdown",
   "metadata": {},
   "source": [
    "## Introduction <a name=\"introduction\"></a>"
   ]
  },
  {
   "cell_type": "markdown",
   "metadata": {},
   "source": [
    "This project webscrapes IMDB movie rankings using python’s BeautifulSoup package, and merges this data with BoxOfficeMojo information (www.boxofficemojo.com) related to movie boxoffice grosses. Then linear regression, decision tree, and random forest models are run with Scikit Learn Regression producing the highest R^2 of 82% that shows IMDB rankings and votes as important factors in predicting movie gross. Finally, a simple test case predicts what a fictional movie with a certain rating, opening, and vote number would make in lifetime gross at the boxoffice. "
   ]
  },
  {
   "cell_type": "markdown",
   "metadata": {},
   "source": [
    "## Webscrape Movie Reviews From IMBD <a name=\"Webscrape Movie Reviews From IMBD\"></a>"
   ]
  },
  {
   "cell_type": "code",
   "execution_count": 86,
   "metadata": {
    "collapsed": false
   },
   "outputs": [],
   "source": [
    "# Webscraping/importing/system\n",
    "from bs4 import BeautifulSoup\n",
    "import requests\n",
    "import pandas as pd\n",
    "import os\n",
    "import json\n",
    "import pickle\n",
    "# Graphing\n",
    "%matplotlib inline\n",
    "from matplotlib import pyplot as plt\n",
    "import numpy as np\n",
    "import pandas as pd\n",
    "import seaborn as sns\n",
    "from seaborn import plt\n",
    "# Modeling\n",
    "import statsmodels.formula.api as smf\n",
    "import patsy\n",
    "from sklearn import metrics\n",
    "from sklearn import tree\n",
    "from sklearn.linear_model import LinearRegression\n",
    "from sklearn.cross_validation import train_test_split\n",
    "from sklearn.ensemble import RandomForestRegressor\n",
    "# Ignore Warnings\n",
    "import warnings\n",
    "warnings.filterwarnings('ignore')"
   ]
  },
  {
   "cell_type": "code",
   "execution_count": 2,
   "metadata": {
    "collapsed": false
   },
   "outputs": [],
   "source": [
    "def get_imdb_data():\n",
    "\n",
    "#Sample website below:\n",
    "#http://www.imdb.com/search/title?count=250&countries=us&languages=en&release_date\n",
    "#=1972-01-01,2014-12-31&title_type=feature&view=simple&start=1\n",
    "    \n",
    "    base_url = \"http://www.imdb.com/search/title\"\n",
    "    params = {\n",
    "        \"count\": 250,\n",
    "        \"countries\": \"us\",\n",
    "        \"languages\": \"en\",\n",
    "        \"release_date\": \"1972-01-01,2014-12-31\",\n",
    "        \"title_type\": \"feature\",\n",
    "        \"view\":\"simple\",\n",
    "        \"start\": 1\n",
    "    }\n",
    "    data = []\n",
    "    # Loop to navigate through pages by changing the start parameter\n",
    "    while True:\n",
    "        # Get content from IMDB\n",
    "        content = requests.get(base_url, params=params).content\n",
    "        params[\"start\"] += 250\n",
    "        \n",
    "        soup = BeautifulSoup(content)\n",
    "        \n",
    "        # If no data is found, end the while loop\n",
    "        if not soup.find(\"tr\", class_=[\"even\", \"odd\"]) or params[\"start\"] > 10000:\n",
    "            break\n",
    "        \n",
    "        # For each row (data), get title, ratings. Rows are tagged with even and odd class\n",
    "        # tr = table row, td = table detail\n",
    "        for tr in soup.find_all(\"tr\", class_=[\"even\", \"odd\"]):\n",
    "            title_tag = tr.find(\"td\", class_=\"title\") # find td that has class = title\n",
    "            title = title_tag.find(\"a\").text # whatever is between is what I want\n",
    "            \n",
    "            # Get the Year. Strip the first and last value that contain the paranteses\n",
    "            year = title_tag.find(\"span\", class_=\"year_type\").text[1:-1]\n",
    "            \n",
    "            # Get all td tags to get to rating and votes that don't have any class to them\n",
    "            # No class names on rating\n",
    "            td_tags = tr.find_all(\"td\")\n",
    "            # Get ratings.  If they don't exist, make empty string\n",
    "            rating_tag = td_tags[2].find(\"b\")\n",
    "            if rating_tag:\n",
    "                rating = rating_tag.text\n",
    "            else:\n",
    "                rating = \"\"\n",
    "            # Get votes and remove the thousands seperator to get number\n",
    "            votes = td_tags[3].text.strip().replace(\",\", \"\")\n",
    "            # Append the results to data\n",
    "            data.append({\n",
    "                    \"title\": title,\n",
    "                    \"year\": year,\n",
    "                    \"rating\": rating,\n",
    "                    \"votes\": votes\n",
    "                })\n",
    "    return data"
   ]
  },
  {
   "cell_type": "code",
   "execution_count": 3,
   "metadata": {
    "collapsed": false
   },
   "outputs": [],
   "source": [
    "data = get_imdb_data()"
   ]
  },
  {
   "cell_type": "code",
   "execution_count": 4,
   "metadata": {
    "collapsed": true
   },
   "outputs": [],
   "source": [
    "# Transform data to a dataframe, save as a pickle file"
   ]
  },
  {
   "cell_type": "code",
   "execution_count": 5,
   "metadata": {
    "collapsed": false,
    "scrolled": true
   },
   "outputs": [],
   "source": [
    "# pd.DataFrame(data)\n",
    "# imdb = pd.DataFrame(data)\n",
    "# with open('imdb1970.pkl', 'w') as picklefile:\n",
    "#    pickle. dump(imdb, picklefile) "
   ]
  },
  {
   "cell_type": "code",
   "execution_count": 6,
   "metadata": {
    "collapsed": false
   },
   "outputs": [
    {
     "data": {
      "text/html": [
       "<div>\n",
       "<table border=\"1\" class=\"dataframe\">\n",
       "  <thead>\n",
       "    <tr style=\"text-align: right;\">\n",
       "      <th></th>\n",
       "      <th>rating</th>\n",
       "      <th>title</th>\n",
       "      <th>votes</th>\n",
       "      <th>year</th>\n",
       "    </tr>\n",
       "  </thead>\n",
       "  <tbody>\n",
       "    <tr>\n",
       "      <th>0</th>\n",
       "      <td>9.2</td>\n",
       "      <td>The Godfather</td>\n",
       "      <td>1097794</td>\n",
       "      <td>1972</td>\n",
       "    </tr>\n",
       "    <tr>\n",
       "      <th>1</th>\n",
       "      <td>7.4</td>\n",
       "      <td>Labyrinth</td>\n",
       "      <td>90636</td>\n",
       "      <td>1986</td>\n",
       "    </tr>\n",
       "    <tr>\n",
       "      <th>2</th>\n",
       "      <td>8.6</td>\n",
       "      <td>Interstellar</td>\n",
       "      <td>832622</td>\n",
       "      <td>2014</td>\n",
       "    </tr>\n",
       "    <tr>\n",
       "      <th>3</th>\n",
       "      <td>7.8</td>\n",
       "      <td>Kingsman: The Secret Service</td>\n",
       "      <td>351702</td>\n",
       "      <td>2014</td>\n",
       "    </tr>\n",
       "    <tr>\n",
       "      <th>4</th>\n",
       "      <td>8.2</td>\n",
       "      <td>The Wolf of Wall Street</td>\n",
       "      <td>709910</td>\n",
       "      <td>2013</td>\n",
       "    </tr>\n",
       "  </tbody>\n",
       "</table>\n",
       "</div>"
      ],
      "text/plain": [
       "  rating                         title    votes  year\n",
       "0    9.2                 The Godfather  1097794  1972\n",
       "1    7.4                     Labyrinth    90636  1986\n",
       "2    8.6                  Interstellar   832622  2014\n",
       "3    7.8  Kingsman: The Secret Service   351702  2014\n",
       "4    8.2       The Wolf of Wall Street   709910  2013"
      ]
     },
     "execution_count": 6,
     "metadata": {},
     "output_type": "execute_result"
    }
   ],
   "source": [
    "imdbfile = 'imdb1970.pkl'\n",
    "assert os.path.isfile(imdbfile),'Oops, move your json or change the metafile path'\n",
    "imdb_df = pd.DataFrame(pd.read_pickle(imdbfile))\n",
    "imdb_df = imdb_df # same as mojo_df.transpose()\n",
    "imdb_df.head()"
   ]
  },
  {
   "cell_type": "code",
   "execution_count": 7,
   "metadata": {
    "collapsed": false
   },
   "outputs": [
    {
     "name": "stdout",
     "output_type": "stream",
     "text": [
      "(9750, 4)\n",
      "['rating' 'title' 'votes' 'year']\n"
     ]
    }
   ],
   "source": [
    "print imdb_df.shape\n",
    "print imdb_df.columns.values"
   ]
  },
  {
   "cell_type": "markdown",
   "metadata": {},
   "source": [
    "## Merging IMBD and BoxOfficeMojo Data <a name=\"Merging IMBD and BoxOfficeMojo Data\"></a>"
   ]
  },
  {
   "cell_type": "markdown",
   "metadata": {},
   "source": [
    "### BoxOfficeMojo Data"
   ]
  },
  {
   "cell_type": "code",
   "execution_count": 10,
   "metadata": {
    "collapsed": true
   },
   "outputs": [],
   "source": [
    "mojofile = 'mojo_movies.pkl'"
   ]
  },
  {
   "cell_type": "code",
   "execution_count": 11,
   "metadata": {
    "collapsed": false
   },
   "outputs": [],
   "source": [
    "assert os.path.isfile(mojofile), 'Oops, move your pickle or change the mojofile path'"
   ]
  },
  {
   "cell_type": "code",
   "execution_count": 12,
   "metadata": {
    "collapsed": false
   },
   "outputs": [
    {
     "data": {
      "text/html": [
       "<div>\n",
       "<table border=\"1\" class=\"dataframe\">\n",
       "  <thead>\n",
       "    <tr style=\"text-align: right;\">\n",
       "      <th></th>\n",
       "      <th>date</th>\n",
       "      <th>genres</th>\n",
       "      <th>lifetime gross</th>\n",
       "      <th>lifetime gross theaters</th>\n",
       "      <th>mojo_url</th>\n",
       "      <th>opening</th>\n",
       "      <th>opening theaters</th>\n",
       "      <th>rank</th>\n",
       "      <th>studio</th>\n",
       "      <th>title</th>\n",
       "      <th>year</th>\n",
       "    </tr>\n",
       "  </thead>\n",
       "  <tbody>\n",
       "    <tr>\n",
       "      <th>/movies/?id=</th>\n",
       "      <td>2015-07-31 00:00:00</td>\n",
       "      <td>[Biopic - Music, Foreign Language]</td>\n",
       "      <td>8808</td>\n",
       "      <td>5</td>\n",
       "      <td>/movies/?id=</td>\n",
       "      <td>5295</td>\n",
       "      <td>5</td>\n",
       "      <td>44</td>\n",
       "      <td>MBox</td>\n",
       "      <td>Paul Coelho's Best Story</td>\n",
       "      <td>2015</td>\n",
       "    </tr>\n",
       "    <tr>\n",
       "      <th>/movies/?id=10000bc.htm</th>\n",
       "      <td>2008-03-07 00:00:00</td>\n",
       "      <td>[Adventure - Period]</td>\n",
       "      <td>94784201</td>\n",
       "      <td>3454</td>\n",
       "      <td>/movies/?id=10000bc.htm</td>\n",
       "      <td>35867488</td>\n",
       "      <td>3410</td>\n",
       "      <td>20</td>\n",
       "      <td>WB</td>\n",
       "      <td>10,000 B.C.</td>\n",
       "      <td>2008</td>\n",
       "    </tr>\n",
       "  </tbody>\n",
       "</table>\n",
       "</div>"
      ],
      "text/plain": [
       "                                        date  \\\n",
       "/movies/?id=             2015-07-31 00:00:00   \n",
       "/movies/?id=10000bc.htm  2008-03-07 00:00:00   \n",
       "\n",
       "                                                     genres lifetime gross  \\\n",
       "/movies/?id=             [Biopic - Music, Foreign Language]           8808   \n",
       "/movies/?id=10000bc.htm                [Adventure - Period]       94784201   \n",
       "\n",
       "                        lifetime gross theaters                 mojo_url  \\\n",
       "/movies/?id=                                  5             /movies/?id=   \n",
       "/movies/?id=10000bc.htm                    3454  /movies/?id=10000bc.htm   \n",
       "\n",
       "                          opening opening theaters rank studio  \\\n",
       "/movies/?id=                 5295                5   44   MBox   \n",
       "/movies/?id=10000bc.htm  35867488             3410   20     WB   \n",
       "\n",
       "                                            title  year  \n",
       "/movies/?id=             Paul Coelho's Best Story  2015  \n",
       "/movies/?id=10000bc.htm               10,000 B.C.  2008  "
      ]
     },
     "execution_count": 12,
     "metadata": {},
     "output_type": "execute_result"
    }
   ],
   "source": [
    "mojo_df = pd.DataFrame(pd.read_pickle(mojofile))\n",
    "mojo_df = mojo_df.T # same as mojo_df.transpose()\n",
    "mojo_df.head(2)"
   ]
  },
  {
   "cell_type": "markdown",
   "metadata": {
    "collapsed": true
   },
   "source": [
    "### 2. Check for Abnormalities"
   ]
  },
  {
   "cell_type": "code",
   "execution_count": 13,
   "metadata": {
    "collapsed": true
   },
   "outputs": [],
   "source": [
    "# Incorrect Dates"
   ]
  },
  {
   "cell_type": "code",
   "execution_count": 14,
   "metadata": {
    "collapsed": false
   },
   "outputs": [
    {
     "data": {
      "text/plain": [
       "array([2015, 2008, 2013, 2014, 1982, 1996, 2000, 2007, 1999, 2009, 2011,\n",
       "       2004, 2006, 1992, 2005, 1986, 2012, 1997, 1988, 1984, 1995, 1998,\n",
       "       1968, 2010, 1990, 1991, 2002, 1993, 2003, 1989, 2001, 1994, 2016,\n",
       "       1987, 1980, 1981, nan, 1985, 2036, 1979, 2030, 1976, 1983, 1973,\n",
       "       1978, 1975, 1974, 1977, 2051, 2038, 2045, 1972, 2021, 2049, 2042,\n",
       "       2046, 2062, 2039, 2060, 2047, 2057, 1970, 2035, 2041, 2064, 2054], dtype=object)"
      ]
     },
     "execution_count": 14,
     "metadata": {},
     "output_type": "execute_result"
    }
   ],
   "source": [
    "mojo_df.year.unique()"
   ]
  },
  {
   "cell_type": "code",
   "execution_count": 15,
   "metadata": {
    "collapsed": false
   },
   "outputs": [
    {
     "name": "stdout",
     "output_type": "stream",
     "text": [
      "20\n"
     ]
    },
    {
     "data": {
      "text/html": [
       "<div>\n",
       "<table border=\"1\" class=\"dataframe\">\n",
       "  <thead>\n",
       "    <tr style=\"text-align: right;\">\n",
       "      <th></th>\n",
       "      <th>date</th>\n",
       "      <th>genres</th>\n",
       "      <th>lifetime gross</th>\n",
       "      <th>lifetime gross theaters</th>\n",
       "      <th>mojo_url</th>\n",
       "      <th>opening</th>\n",
       "      <th>opening theaters</th>\n",
       "      <th>rank</th>\n",
       "      <th>studio</th>\n",
       "      <th>title</th>\n",
       "      <th>year</th>\n",
       "    </tr>\n",
       "  </thead>\n",
       "  <tbody>\n",
       "    <tr>\n",
       "      <th>/movies/?id=afterthethinman.htm</th>\n",
       "      <td>2036-12-25 00:00:00</td>\n",
       "      <td>[Comedy - Sequel (Live Action)]</td>\n",
       "      <td>n/a</td>\n",
       "      <td>-</td>\n",
       "      <td>/movies/?id=afterthethinman.htm</td>\n",
       "      <td>n/a</td>\n",
       "      <td>-</td>\n",
       "      <td>-</td>\n",
       "      <td>MGM</td>\n",
       "      <td>After the Thin Man</td>\n",
       "      <td>2036</td>\n",
       "    </tr>\n",
       "    <tr>\n",
       "      <th>/movies/?id=allquietonthewesternfront.htm</th>\n",
       "      <td>2030-04-21 00:00:00</td>\n",
       "      <td>[War - World War I]</td>\n",
       "      <td>n/a</td>\n",
       "      <td>-</td>\n",
       "      <td>/movies/?id=allquietonthewesternfront.htm</td>\n",
       "      <td>n/a</td>\n",
       "      <td>-</td>\n",
       "      <td>-</td>\n",
       "      <td>Uni.</td>\n",
       "      <td>All Quiet on the Western Front</td>\n",
       "      <td>2030</td>\n",
       "    </tr>\n",
       "  </tbody>\n",
       "</table>\n",
       "</div>"
      ],
      "text/plain": [
       "                                                          date  \\\n",
       "/movies/?id=afterthethinman.htm            2036-12-25 00:00:00   \n",
       "/movies/?id=allquietonthewesternfront.htm  2030-04-21 00:00:00   \n",
       "\n",
       "                                                                    genres  \\\n",
       "/movies/?id=afterthethinman.htm            [Comedy - Sequel (Live Action)]   \n",
       "/movies/?id=allquietonthewesternfront.htm              [War - World War I]   \n",
       "\n",
       "                                          lifetime gross  \\\n",
       "/movies/?id=afterthethinman.htm                      n/a   \n",
       "/movies/?id=allquietonthewesternfront.htm            n/a   \n",
       "\n",
       "                                          lifetime gross theaters  \\\n",
       "/movies/?id=afterthethinman.htm                                 -   \n",
       "/movies/?id=allquietonthewesternfront.htm                       -   \n",
       "\n",
       "                                                                            mojo_url  \\\n",
       "/movies/?id=afterthethinman.htm                      /movies/?id=afterthethinman.htm   \n",
       "/movies/?id=allquietonthewesternfront.htm  /movies/?id=allquietonthewesternfront.htm   \n",
       "\n",
       "                                          opening opening theaters rank  \\\n",
       "/movies/?id=afterthethinman.htm               n/a                -    -   \n",
       "/movies/?id=allquietonthewesternfront.htm     n/a                -    -   \n",
       "\n",
       "                                          studio  \\\n",
       "/movies/?id=afterthethinman.htm              MGM   \n",
       "/movies/?id=allquietonthewesternfront.htm   Uni.   \n",
       "\n",
       "                                                                    title  \\\n",
       "/movies/?id=afterthethinman.htm                        After the Thin Man   \n",
       "/movies/?id=allquietonthewesternfront.htm  All Quiet on the Western Front   \n",
       "\n",
       "                                           year  \n",
       "/movies/?id=afterthethinman.htm            2036  \n",
       "/movies/?id=allquietonthewesternfront.htm  2030  "
      ]
     },
     "execution_count": 15,
     "metadata": {},
     "output_type": "execute_result"
    }
   ],
   "source": [
    "# turns out crazy date movies are 100 years off & full of nan's.\n",
    "crazy_dates = mojo_df[mojo_df.year > 2016]\n",
    "print len(crazy_dates)\n",
    "crazy_dates.head(2)"
   ]
  },
  {
   "cell_type": "code",
   "execution_count": 16,
   "metadata": {
    "collapsed": true
   },
   "outputs": [],
   "source": [
    "mjdf = mojo_df.copy()\n",
    "mjdf = mjdf[mjdf.year < 2017]"
   ]
  },
  {
   "cell_type": "code",
   "execution_count": 17,
   "metadata": {
    "collapsed": true
   },
   "outputs": [],
   "source": [
    "# Get important columns and change to more user friendly column names"
   ]
  },
  {
   "cell_type": "code",
   "execution_count": 18,
   "metadata": {
    "collapsed": false
   },
   "outputs": [
    {
     "data": {
      "text/html": [
       "<div>\n",
       "<table border=\"1\" class=\"dataframe\">\n",
       "  <thead>\n",
       "    <tr style=\"text-align: right;\">\n",
       "      <th></th>\n",
       "      <th>lifetime_gross</th>\n",
       "      <th>lifetime_gross_theaters</th>\n",
       "      <th>opening</th>\n",
       "      <th>opening_theaters</th>\n",
       "      <th>title</th>\n",
       "      <th>year</th>\n",
       "    </tr>\n",
       "  </thead>\n",
       "  <tbody>\n",
       "    <tr>\n",
       "      <th>0</th>\n",
       "      <td>8808</td>\n",
       "      <td>5</td>\n",
       "      <td>5295</td>\n",
       "      <td>5</td>\n",
       "      <td>Paul Coelho's Best Story</td>\n",
       "      <td>2015</td>\n",
       "    </tr>\n",
       "    <tr>\n",
       "      <th>1</th>\n",
       "      <td>94784201</td>\n",
       "      <td>3454</td>\n",
       "      <td>35867488</td>\n",
       "      <td>3410</td>\n",
       "      <td>10,000 B.C.</td>\n",
       "      <td>2008</td>\n",
       "    </tr>\n",
       "    <tr>\n",
       "      <th>2</th>\n",
       "      <td>60522097</td>\n",
       "      <td>3401</td>\n",
       "      <td>27520040</td>\n",
       "      <td>3401</td>\n",
       "      <td>After Earth</td>\n",
       "      <td>2013</td>\n",
       "    </tr>\n",
       "    <tr>\n",
       "      <th>3</th>\n",
       "      <td>53895</td>\n",
       "      <td>24</td>\n",
       "      <td>24120</td>\n",
       "      <td>24</td>\n",
       "      <td>1,000 Times Good Night</td>\n",
       "      <td>2014</td>\n",
       "    </tr>\n",
       "    <tr>\n",
       "      <th>4</th>\n",
       "      <td>78350</td>\n",
       "      <td>33</td>\n",
       "      <td>78350</td>\n",
       "      <td>33</td>\n",
       "      <td>Bugs Bunny's 1001 Rabbit Tales</td>\n",
       "      <td>1982</td>\n",
       "    </tr>\n",
       "  </tbody>\n",
       "</table>\n",
       "</div>"
      ],
      "text/plain": [
       "  lifetime_gross lifetime_gross_theaters   opening opening_theaters  \\\n",
       "0           8808                       5      5295                5   \n",
       "1       94784201                    3454  35867488             3410   \n",
       "2       60522097                    3401  27520040             3401   \n",
       "3          53895                      24     24120               24   \n",
       "4          78350                      33     78350               33   \n",
       "\n",
       "                            title  year  \n",
       "0        Paul Coelho's Best Story  2015  \n",
       "1                     10,000 B.C.  2008  \n",
       "2                     After Earth  2013  \n",
       "3          1,000 Times Good Night  2014  \n",
       "4  Bugs Bunny's 1001 Rabbit Tales  1982  "
      ]
     },
     "execution_count": 18,
     "metadata": {},
     "output_type": "execute_result"
    }
   ],
   "source": [
    "col_names = [col.replace(' ','_') for col in mjdf.columns]\n",
    "wanted = [2,3,5,6,9,10]\n",
    "col_names = [col for i,col in enumerate(col_names) if i in wanted]\n",
    "col_names_old = [col.replace('_',' ') for col in col_names]\n",
    "mjdf = pd.DataFrame(mjdf[col_names_old].values,columns=col_names)\n",
    "mjdf.head()"
   ]
  },
  {
   "cell_type": "code",
   "execution_count": 19,
   "metadata": {
    "collapsed": true
   },
   "outputs": [],
   "source": [
    "# 'n/a' in columns make each column an object type: Fix"
   ]
  },
  {
   "cell_type": "code",
   "execution_count": 20,
   "metadata": {
    "collapsed": false
   },
   "outputs": [
    {
     "data": {
      "text/plain": [
       "lifetime_gross             object\n",
       "lifetime_gross_theaters    object\n",
       "opening                    object\n",
       "opening_theaters           object\n",
       "title                      object\n",
       "year                       object\n",
       "dtype: object"
      ]
     },
     "execution_count": 20,
     "metadata": {},
     "output_type": "execute_result"
    }
   ],
   "source": [
    "mjdf.dtypes # Everything is an object"
   ]
  },
  {
   "cell_type": "code",
   "execution_count": 21,
   "metadata": {
    "collapsed": false
   },
   "outputs": [
    {
     "data": {
      "text/plain": [
       "lifetime_gross             float64\n",
       "lifetime_gross_theaters     object\n",
       "opening                    float64\n",
       "opening_theaters            object\n",
       "title                       object\n",
       "year                         int64\n",
       "dtype: object"
      ]
     },
     "execution_count": 21,
     "metadata": {},
     "output_type": "execute_result"
    }
   ],
   "source": [
    "mjdf = mjdf.replace('n/a',np.nan)\n",
    "mjdf.dtypes"
   ]
  },
  {
   "cell_type": "code",
   "execution_count": 22,
   "metadata": {
    "collapsed": true
   },
   "outputs": [],
   "source": [
    "# Drop Nans in Lifetime_gross column"
   ]
  },
  {
   "cell_type": "code",
   "execution_count": 23,
   "metadata": {
    "collapsed": true
   },
   "outputs": [],
   "source": [
    "mjdf = mjdf.dropna(subset=['lifetime_gross'])"
   ]
  },
  {
   "cell_type": "code",
   "execution_count": 24,
   "metadata": {
    "collapsed": true
   },
   "outputs": [],
   "source": [
    "# Plot lifetime gross over the years"
   ]
  },
  {
   "cell_type": "code",
   "execution_count": 25,
   "metadata": {
    "collapsed": false
   },
   "outputs": [
    {
     "data": {
      "image/png": "[encoded data removed]",
      "text/plain": [
       "<matplotlib.figure.Figure at 0x11a2ff190>"
      ]
     },
     "metadata": {},
     "output_type": "display_data"
    }
   ],
   "source": [
    "plt.plot(mjdf['year'],mjdf['lifetime_gross'],'mo',alpha=0.3);"
   ]
  },
  {
   "cell_type": "code",
   "execution_count": 26,
   "metadata": {
    "collapsed": true
   },
   "outputs": [],
   "source": [
    "# Plot movies per year"
   ]
  },
  {
   "cell_type": "code",
   "execution_count": 27,
   "metadata": {
    "collapsed": false
   },
   "outputs": [
    {
     "data": {
      "image/png": "[encoded data removed]",
      "text/plain": [
       "<matplotlib.figure.Figure at 0x11a668310>"
      ]
     },
     "metadata": {},
     "output_type": "display_data"
    }
   ],
   "source": [
    "mjdf.year.hist(bins=25);"
   ]
  },
  {
   "cell_type": "markdown",
   "metadata": {},
   "source": [
    "#### Clean and Merge with IMBD Data"
   ]
  },
  {
   "cell_type": "code",
   "execution_count": 28,
   "metadata": {
    "collapsed": false
   },
   "outputs": [
    {
     "data": {
      "text/html": [
       "<div>\n",
       "<table border=\"1\" class=\"dataframe\">\n",
       "  <thead>\n",
       "    <tr style=\"text-align: right;\">\n",
       "      <th></th>\n",
       "      <th>lifetime_gross</th>\n",
       "      <th>lifetime_gross_theaters</th>\n",
       "      <th>opening</th>\n",
       "      <th>opening_theaters</th>\n",
       "      <th>title</th>\n",
       "      <th>year_x</th>\n",
       "      <th>rating</th>\n",
       "      <th>votes</th>\n",
       "      <th>year_y</th>\n",
       "    </tr>\n",
       "  </thead>\n",
       "  <tbody>\n",
       "    <tr>\n",
       "      <th>0</th>\n",
       "      <td>60522097.0</td>\n",
       "      <td>3401</td>\n",
       "      <td>27520040.0</td>\n",
       "      <td>3401</td>\n",
       "      <td>After Earth</td>\n",
       "      <td>2013</td>\n",
       "      <td>4.9</td>\n",
       "      <td>152912</td>\n",
       "      <td>2013</td>\n",
       "    </tr>\n",
       "    <tr>\n",
       "      <th>1</th>\n",
       "      <td>54240821.0</td>\n",
       "      <td>2167</td>\n",
       "      <td>10979290.0</td>\n",
       "      <td>2023</td>\n",
       "      <td>The Hundred-Foot Journey</td>\n",
       "      <td>2014</td>\n",
       "      <td>7.3</td>\n",
       "      <td>48007</td>\n",
       "      <td>2014</td>\n",
       "    </tr>\n",
       "  </tbody>\n",
       "</table>\n",
       "</div>"
      ],
      "text/plain": [
       "   lifetime_gross lifetime_gross_theaters     opening opening_theaters  \\\n",
       "0      60522097.0                    3401  27520040.0             3401   \n",
       "1      54240821.0                    2167  10979290.0             2023   \n",
       "\n",
       "                      title  year_x rating   votes year_y  \n",
       "0               After Earth    2013    4.9  152912   2013  \n",
       "1  The Hundred-Foot Journey    2014    7.3   48007   2014  "
      ]
     },
     "execution_count": 28,
     "metadata": {},
     "output_type": "execute_result"
    }
   ],
   "source": [
    "merged_on_raw_title = pd.merge(mjdf,imdb_df,on='title')\n",
    "merged_on_raw_title.head(2)"
   ]
  },
  {
   "cell_type": "code",
   "execution_count": 29,
   "metadata": {
    "collapsed": true
   },
   "outputs": [],
   "source": [
    "# Function to create uniform title names"
   ]
  },
  {
   "cell_type": "code",
   "execution_count": 30,
   "metadata": {
    "collapsed": true
   },
   "outputs": [],
   "source": [
    "def lightly_process_title(title):\n",
    "    title = title.replace(' ','').lower()\n",
    "    charlist = list(title)\n",
    "    charlist = [char for char in charlist if char.isalnum()]\n",
    "    return ''.join(charlist)"
   ]
  },
  {
   "cell_type": "code",
   "execution_count": 31,
   "metadata": {
    "collapsed": false
   },
   "outputs": [
    {
     "data": {
      "text/plain": [
       "'102dalmatiansapuppycomesofage'"
      ]
     },
     "execution_count": 31,
     "metadata": {},
     "output_type": "execute_result"
    }
   ],
   "source": [
    "t = \"102 Dalmatians: A Puppy Comes-of-Age\"\n",
    "lightly_process_title(t)"
   ]
  },
  {
   "cell_type": "code",
   "execution_count": 32,
   "metadata": {
    "collapsed": false
   },
   "outputs": [],
   "source": [
    "imdb_df.loc[:,'title2'] = imdb_df.loc[:,'title'].apply(lightly_process_title)\n",
    "mjdf['title2'] = mjdf['title'].apply(lightly_process_title)\n",
    "merged_on_lighty_processed_title = pd.merge(mjdf,imdb_df,on='title2',how='inner')"
   ]
  },
  {
   "cell_type": "code",
   "execution_count": 33,
   "metadata": {
    "collapsed": false
   },
   "outputs": [
    {
     "data": {
      "text/html": [
       "<div>\n",
       "<table border=\"1\" class=\"dataframe\">\n",
       "  <thead>\n",
       "    <tr style=\"text-align: right;\">\n",
       "      <th></th>\n",
       "      <th>lifetime_gross</th>\n",
       "      <th>lifetime_gross_theaters</th>\n",
       "      <th>opening</th>\n",
       "      <th>opening_theaters</th>\n",
       "      <th>title_x</th>\n",
       "      <th>year_x</th>\n",
       "      <th>title2</th>\n",
       "      <th>rating</th>\n",
       "      <th>title_y</th>\n",
       "      <th>votes</th>\n",
       "      <th>year_y</th>\n",
       "    </tr>\n",
       "  </thead>\n",
       "  <tbody>\n",
       "    <tr>\n",
       "      <th>0</th>\n",
       "      <td>94784201.0</td>\n",
       "      <td>3454</td>\n",
       "      <td>35867488.0</td>\n",
       "      <td>3410</td>\n",
       "      <td>10,000 B.C.</td>\n",
       "      <td>2008</td>\n",
       "      <td>10000bc</td>\n",
       "      <td>5.1</td>\n",
       "      <td>10,000 BC</td>\n",
       "      <td>105847</td>\n",
       "      <td>2008</td>\n",
       "    </tr>\n",
       "    <tr>\n",
       "      <th>1</th>\n",
       "      <td>60522097.0</td>\n",
       "      <td>3401</td>\n",
       "      <td>27520040.0</td>\n",
       "      <td>3401</td>\n",
       "      <td>After Earth</td>\n",
       "      <td>2013</td>\n",
       "      <td>afterearth</td>\n",
       "      <td>4.9</td>\n",
       "      <td>After Earth</td>\n",
       "      <td>152912</td>\n",
       "      <td>2013</td>\n",
       "    </tr>\n",
       "  </tbody>\n",
       "</table>\n",
       "</div>"
      ],
      "text/plain": [
       "   lifetime_gross lifetime_gross_theaters     opening opening_theaters  \\\n",
       "0      94784201.0                    3454  35867488.0             3410   \n",
       "1      60522097.0                    3401  27520040.0             3401   \n",
       "\n",
       "       title_x  year_x      title2 rating      title_y   votes year_y  \n",
       "0  10,000 B.C.    2008     10000bc    5.1    10,000 BC  105847   2008  \n",
       "1  After Earth    2013  afterearth    4.9  After Earth  152912   2013  "
      ]
     },
     "execution_count": 33,
     "metadata": {},
     "output_type": "execute_result"
    }
   ],
   "source": [
    "merged_on_lighty_processed_title.head(2)"
   ]
  },
  {
   "cell_type": "code",
   "execution_count": 34,
   "metadata": {
    "collapsed": false
   },
   "outputs": [],
   "source": [
    "# Filter for relevant columns to model\n",
    "combined = merged_on_lighty_processed_title\n",
    "combined.columns\n",
    "imdb_num = combined[['rating','votes','lifetime_gross','year_y','lifetime_gross_theaters','opening','opening_theaters']]"
   ]
  },
  {
   "cell_type": "code",
   "execution_count": 35,
   "metadata": {
    "collapsed": false
   },
   "outputs": [
    {
     "data": {
      "text/html": [
       "<div>\n",
       "<table border=\"1\" class=\"dataframe\">\n",
       "  <thead>\n",
       "    <tr style=\"text-align: right;\">\n",
       "      <th></th>\n",
       "      <th>rating</th>\n",
       "      <th>votes</th>\n",
       "      <th>lifetime_gross</th>\n",
       "      <th>year_y</th>\n",
       "      <th>lifetime_gross_theaters</th>\n",
       "      <th>opening</th>\n",
       "      <th>opening_theaters</th>\n",
       "    </tr>\n",
       "  </thead>\n",
       "  <tbody>\n",
       "    <tr>\n",
       "      <th>0</th>\n",
       "      <td>5.1</td>\n",
       "      <td>105847</td>\n",
       "      <td>94784201.0</td>\n",
       "      <td>2008</td>\n",
       "      <td>3454</td>\n",
       "      <td>35867488.0</td>\n",
       "      <td>3410</td>\n",
       "    </tr>\n",
       "    <tr>\n",
       "      <th>1</th>\n",
       "      <td>4.9</td>\n",
       "      <td>152912</td>\n",
       "      <td>60522097.0</td>\n",
       "      <td>2013</td>\n",
       "      <td>3401</td>\n",
       "      <td>27520040.0</td>\n",
       "      <td>3401</td>\n",
       "    </tr>\n",
       "  </tbody>\n",
       "</table>\n",
       "</div>"
      ],
      "text/plain": [
       "  rating   votes  lifetime_gross year_y lifetime_gross_theaters     opening  \\\n",
       "0    5.1  105847      94784201.0   2008                    3454  35867488.0   \n",
       "1    4.9  152912      60522097.0   2013                    3401  27520040.0   \n",
       "\n",
       "  opening_theaters  \n",
       "0             3410  \n",
       "1             3401  "
      ]
     },
     "execution_count": 35,
     "metadata": {},
     "output_type": "execute_result"
    }
   ],
   "source": [
    "imdb_num.head(2)"
   ]
  },
  {
   "cell_type": "code",
   "execution_count": 36,
   "metadata": {
    "collapsed": false
   },
   "outputs": [
    {
     "name": "stdout",
     "output_type": "stream",
     "text": [
      "<class 'pandas.core.frame.DataFrame'>\n",
      "Int64Index: 4134 entries, 0 to 4133\n",
      "Data columns (total 7 columns):\n",
      "rating                     4134 non-null object\n",
      "votes                      4134 non-null object\n",
      "lifetime_gross             4134 non-null float64\n",
      "year_y                     4134 non-null object\n",
      "lifetime_gross_theaters    4134 non-null object\n",
      "opening                    4002 non-null float64\n",
      "opening_theaters           4134 non-null object\n",
      "dtypes: float64(2), object(5)\n",
      "memory usage: 258.4+ KB\n"
     ]
    }
   ],
   "source": [
    "imdb_num.info()"
   ]
  },
  {
   "cell_type": "code",
   "execution_count": 37,
   "metadata": {
    "collapsed": true
   },
   "outputs": [],
   "source": [
    "# Get rid of rows with '-'"
   ]
  },
  {
   "cell_type": "code",
   "execution_count": 38,
   "metadata": {
    "collapsed": false
   },
   "outputs": [
    {
     "data": {
      "text/html": [
       "<div>\n",
       "<table border=\"1\" class=\"dataframe\">\n",
       "  <thead>\n",
       "    <tr style=\"text-align: right;\">\n",
       "      <th></th>\n",
       "      <th>rating</th>\n",
       "      <th>votes</th>\n",
       "      <th>lifetime_gross</th>\n",
       "      <th>year_y</th>\n",
       "      <th>lifetime_gross_theaters</th>\n",
       "      <th>opening</th>\n",
       "      <th>opening_theaters</th>\n",
       "    </tr>\n",
       "  </thead>\n",
       "  <tbody>\n",
       "    <tr>\n",
       "      <th>0</th>\n",
       "      <td>5.1</td>\n",
       "      <td>105847</td>\n",
       "      <td>94784201.0</td>\n",
       "      <td>2008</td>\n",
       "      <td>3454</td>\n",
       "      <td>35867488.0</td>\n",
       "      <td>3410</td>\n",
       "    </tr>\n",
       "    <tr>\n",
       "      <th>1</th>\n",
       "      <td>4.9</td>\n",
       "      <td>152912</td>\n",
       "      <td>60522097.0</td>\n",
       "      <td>2013</td>\n",
       "      <td>3401</td>\n",
       "      <td>27520040.0</td>\n",
       "      <td>3401</td>\n",
       "    </tr>\n",
       "  </tbody>\n",
       "</table>\n",
       "</div>"
      ],
      "text/plain": [
       "  rating   votes  lifetime_gross year_y lifetime_gross_theaters     opening  \\\n",
       "0    5.1  105847      94784201.0   2008                    3454  35867488.0   \n",
       "1    4.9  152912      60522097.0   2013                    3401  27520040.0   \n",
       "\n",
       "  opening_theaters  \n",
       "0             3410  \n",
       "1             3401  "
      ]
     },
     "execution_count": 38,
     "metadata": {},
     "output_type": "execute_result"
    }
   ],
   "source": [
    "imdb_copy = imdb_num\n",
    "imdb_copy[imdb_copy.lifetime_gross_theaters == '-']\n",
    "imdb_copy = imdb_copy[imdb_copy.lifetime_gross_theaters != '-']\n",
    "imdb_copy = imdb_copy[imdb_copy.opening_theaters != '-']\n",
    "imdb_copy[imdb_copy.opening_theaters == '-']\n",
    "imdb_copy.head(2)"
   ]
  },
  {
   "cell_type": "code",
   "execution_count": 39,
   "metadata": {
    "collapsed": false
   },
   "outputs": [
    {
     "name": "stdout",
     "output_type": "stream",
     "text": [
      "(3961,)\n",
      "[ 354  567 1045]\n"
     ]
    }
   ],
   "source": [
    "# print imdb_copy.isnull() # boolean true/fales\n",
    "# print imdb_copy.isnull().any(axis=1) # single col of true/falses depending on any nulls in rows\n",
    "# print imdb_copy.isnull().any(axis=1).nonzero() # return rows that are non zero or 1 for true\n",
    "# print imdb_copy.isnull().any(axis=1).nonzero()[0] # take first element of array\n",
    "print imdb_copy.opening.shape\n",
    "print imdb_copy.isnull().any(axis=1).nonzero()[0]"
   ]
  },
  {
   "cell_type": "code",
   "execution_count": 40,
   "metadata": {
    "collapsed": false
   },
   "outputs": [
    {
     "data": {
      "text/plain": [
       "rating                             6.5\n",
       "votes                             2940\n",
       "lifetime_gross             2.16712e+07\n",
       "year_y                            1979\n",
       "lifetime_gross_theaters            934\n",
       "opening                            NaN\n",
       "opening_theaters                   934\n",
       "Name: 589, dtype: object"
      ]
     },
     "execution_count": 40,
     "metadata": {},
     "output_type": "execute_result"
    }
   ],
   "source": [
    "# check a row with Nan\n",
    "imdb_copy.iloc[567,:]"
   ]
  },
  {
   "cell_type": "code",
   "execution_count": 41,
   "metadata": {
    "collapsed": false
   },
   "outputs": [
    {
     "name": "stdout",
     "output_type": "stream",
     "text": [
      "<class 'pandas.core.frame.DataFrame'>\n",
      "Int64Index: 3958 entries, 0 to 4132\n",
      "Data columns (total 7 columns):\n",
      "rating                     3958 non-null object\n",
      "votes                      3958 non-null object\n",
      "lifetime_gross             3958 non-null float64\n",
      "year_y                     3958 non-null object\n",
      "lifetime_gross_theaters    3958 non-null object\n",
      "opening                    3958 non-null float64\n",
      "opening_theaters           3958 non-null object\n",
      "dtypes: float64(2), object(5)\n",
      "memory usage: 247.4+ KB\n"
     ]
    }
   ],
   "source": [
    "# drop Nans, create final df\n",
    "imdb_copy.dropna().info()\n",
    "imdb_final = imdb_copy.dropna()"
   ]
  },
  {
   "cell_type": "code",
   "execution_count": 42,
   "metadata": {
    "collapsed": false
   },
   "outputs": [],
   "source": [
    "# Change dtypes\n",
    "imdb_final['rating'] = imdb_final['rating'].map(lambda x: float(x))\n",
    "imdb_final['votes'] = imdb_final['votes'].map(lambda x: int(x))\n",
    "imdb_final['lifetime_gross'] = imdb_final['lifetime_gross'].map(lambda x: int(x))\n",
    "imdb_final['year_y'] = imdb_final['year_y'].map(lambda x: int(x))\n",
    "imdb_final['lifetime_gross_theaters'] = imdb_final['lifetime_gross_theaters'].map(lambda x: int(x))\n",
    "#imdb_final['opening'] = imdb_final['opening'].map(lambda x: float(x))\n",
    "imdb_final['opening_theaters'] = imdb_final['opening_theaters'].map(lambda x: int(x))"
   ]
  },
  {
   "cell_type": "code",
   "execution_count": 43,
   "metadata": {
    "collapsed": false
   },
   "outputs": [
    {
     "name": "stdout",
     "output_type": "stream",
     "text": [
      "<class 'pandas.core.frame.DataFrame'>\n",
      "Int64Index: 3958 entries, 0 to 4132\n",
      "Data columns (total 7 columns):\n",
      "rating                     3958 non-null float64\n",
      "votes                      3958 non-null int64\n",
      "lifetime_gross             3958 non-null int64\n",
      "year_y                     3958 non-null int64\n",
      "lifetime_gross_theaters    3958 non-null int64\n",
      "opening                    3958 non-null float64\n",
      "opening_theaters           3958 non-null int64\n",
      "dtypes: float64(2), int64(5)\n",
      "memory usage: 247.4 KB\n"
     ]
    }
   ],
   "source": [
    "imdb_final.info()"
   ]
  },
  {
   "cell_type": "markdown",
   "metadata": {},
   "source": [
    "## Predictive Models <a name=\"Predictive Models\"></a>"
   ]
  },
  {
   "cell_type": "markdown",
   "metadata": {},
   "source": [
    "### Regression - Scikit Learn - 82% R^2"
   ]
  },
  {
   "cell_type": "code",
   "execution_count": 44,
   "metadata": {
    "collapsed": true
   },
   "outputs": [],
   "source": [
    "features = ['votes', 'rating','year_y','lifetime_gross_theaters','opening','opening_theaters']\n",
    "response = ['lifetime_gross']"
   ]
  },
  {
   "cell_type": "code",
   "execution_count": 45,
   "metadata": {
    "collapsed": false
   },
   "outputs": [
    {
     "data": {
      "text/plain": [
       "0.82035661907034696"
      ]
     },
     "execution_count": 45,
     "metadata": {},
     "output_type": "execute_result"
    }
   ],
   "source": [
    "# Create an empty model\n",
    "lin_reg = LinearRegression()\n",
    "# Choose the predictor variables, here all but the first which is the response variable\n",
    "X = imdb_final[features]\n",
    "# Choose the response variable(s)\n",
    "y = imdb_final[response]\n",
    "# Fit the model to the full dataset. Unlike statsmodel, have to give it the data\n",
    "lin_reg_results = lin_reg.fit(X, y)\n",
    "# Print out the R^2 for the model against the full dataset\n",
    "lin_reg.score(X,y)"
   ]
  },
  {
   "cell_type": "markdown",
   "metadata": {},
   "source": [
    "### Regression - Scikit Learn - Add Predictions"
   ]
  },
  {
   "cell_type": "code",
   "execution_count": 46,
   "metadata": {
    "collapsed": false
   },
   "outputs": [],
   "source": [
    "predictions = lin_reg.predict(X)\n",
    "len(predictions) # 3958\n",
    "imdb_final['predictions'] = predictions\n",
    "imdb_final['predictions'] = imdb_final['predictions'].astype(int)"
   ]
  },
  {
   "cell_type": "code",
   "execution_count": 47,
   "metadata": {
    "collapsed": false
   },
   "outputs": [
    {
     "data": {
      "text/html": [
       "<div>\n",
       "<table border=\"1\" class=\"dataframe\">\n",
       "  <thead>\n",
       "    <tr style=\"text-align: right;\">\n",
       "      <th></th>\n",
       "      <th>rating</th>\n",
       "      <th>votes</th>\n",
       "      <th>lifetime_gross</th>\n",
       "      <th>year_y</th>\n",
       "      <th>lifetime_gross_theaters</th>\n",
       "      <th>opening</th>\n",
       "      <th>opening_theaters</th>\n",
       "      <th>predictions</th>\n",
       "    </tr>\n",
       "  </thead>\n",
       "  <tbody>\n",
       "    <tr>\n",
       "      <th>0</th>\n",
       "      <td>5.1</td>\n",
       "      <td>105847</td>\n",
       "      <td>94784201</td>\n",
       "      <td>2008</td>\n",
       "      <td>3454</td>\n",
       "      <td>35867488.0</td>\n",
       "      <td>3410</td>\n",
       "      <td>110629600</td>\n",
       "    </tr>\n",
       "    <tr>\n",
       "      <th>1</th>\n",
       "      <td>4.9</td>\n",
       "      <td>152912</td>\n",
       "      <td>60522097</td>\n",
       "      <td>2013</td>\n",
       "      <td>3401</td>\n",
       "      <td>27520040.0</td>\n",
       "      <td>3401</td>\n",
       "      <td>88329400</td>\n",
       "    </tr>\n",
       "  </tbody>\n",
       "</table>\n",
       "</div>"
      ],
      "text/plain": [
       "   rating   votes  lifetime_gross  year_y  lifetime_gross_theaters  \\\n",
       "0     5.1  105847        94784201    2008                     3454   \n",
       "1     4.9  152912        60522097    2013                     3401   \n",
       "\n",
       "      opening  opening_theaters  predictions  \n",
       "0  35867488.0              3410    110629600  \n",
       "1  27520040.0              3401     88329400  "
      ]
     },
     "execution_count": 47,
     "metadata": {},
     "output_type": "execute_result"
    }
   ],
   "source": [
    "imdb_final.head(2)"
   ]
  },
  {
   "cell_type": "code",
   "execution_count": 48,
   "metadata": {
    "collapsed": true
   },
   "outputs": [],
   "source": [
    "# Scikit Learn Predictions/Fit Plots shows predictions being relatively accurate "
   ]
  },
  {
   "cell_type": "code",
   "execution_count": 49,
   "metadata": {
    "collapsed": false
   },
   "outputs": [
    {
     "data": {
      "text/plain": [
       "(-100000000.0, 800000000.0, -100000000.0, 700000000.0)"
      ]
     },
     "execution_count": 49,
     "metadata": {},
     "output_type": "execute_result"
    },
    {
     "data": {
      "image/png": "[encoded data removed]",
      "text/plain": [
       "<matplotlib.figure.Figure at 0x11a5faad0>"
      ]
     },
     "metadata": {},
     "output_type": "display_data"
    }
   ],
   "source": [
    "# Plot Predictions vs Fit\n",
    "fig, ax = plt.subplots(1, 1)\n",
    "ax.scatter(imdb_final['lifetime_gross'],imdb_final['predictions'])\n",
    "ax.set_xlabel('lifetime_gross')\n",
    "ax.set_ylabel('Predictions')\n",
    "ax.axis('equal')"
   ]
  },
  {
   "cell_type": "code",
   "execution_count": 50,
   "metadata": {
    "collapsed": false
   },
   "outputs": [
    {
     "data": {
      "text/plain": [
       "array([  1.53537107e+09])"
      ]
     },
     "execution_count": 50,
     "metadata": {},
     "output_type": "execute_result"
    }
   ],
   "source": [
    "lin_reg.intercept_"
   ]
  },
  {
   "cell_type": "code",
   "execution_count": 51,
   "metadata": {
    "collapsed": false
   },
   "outputs": [
    {
     "data": {
      "text/plain": [
       "array([[  1.17140002e+02,   2.87180528e+05,  -7.70529500e+05,\n",
       "          3.82807715e+04,   2.65810051e+00,  -3.48806297e+04]])"
      ]
     },
     "execution_count": 51,
     "metadata": {},
     "output_type": "execute_result"
    }
   ],
   "source": [
    "lin_reg.coef_"
   ]
  },
  {
   "cell_type": "code",
   "execution_count": 52,
   "metadata": {
    "collapsed": false
   },
   "outputs": [
    {
     "data": {
      "text/html": [
       "<div>\n",
       "<table border=\"1\" class=\"dataframe\">\n",
       "  <thead>\n",
       "    <tr style=\"text-align: right;\">\n",
       "      <th></th>\n",
       "      <th>lifetime_gross</th>\n",
       "      <th>predictions</th>\n",
       "    </tr>\n",
       "  </thead>\n",
       "  <tbody>\n",
       "    <tr>\n",
       "      <th>0</th>\n",
       "      <td>94784201</td>\n",
       "      <td>110629600</td>\n",
       "    </tr>\n",
       "    <tr>\n",
       "      <th>1</th>\n",
       "      <td>60522097</td>\n",
       "      <td>88329400</td>\n",
       "    </tr>\n",
       "  </tbody>\n",
       "</table>\n",
       "</div>"
      ],
      "text/plain": [
       "   lifetime_gross  predictions\n",
       "0        94784201    110629600\n",
       "1        60522097     88329400"
      ]
     },
     "execution_count": 52,
     "metadata": {},
     "output_type": "execute_result"
    }
   ],
   "source": [
    "imdb_final[['lifetime_gross','predictions']].head(2)"
   ]
  },
  {
   "cell_type": "code",
   "execution_count": 53,
   "metadata": {
    "collapsed": false
   },
   "outputs": [
    {
     "data": {
      "text/plain": [
       "0.82035661963692108"
      ]
     },
     "execution_count": 53,
     "metadata": {},
     "output_type": "execute_result"
    }
   ],
   "source": [
    "# R Squared - Same as above \n",
    "metrics.r2_score(imdb_final['lifetime_gross'], imdb_final['predictions'])"
   ]
  },
  {
   "cell_type": "code",
   "execution_count": 54,
   "metadata": {
    "collapsed": false
   },
   "outputs": [
    {
     "data": {
      "text/plain": [
       "26544927.386294644"
      ]
     },
     "execution_count": 54,
     "metadata": {},
     "output_type": "execute_result"
    }
   ],
   "source": [
    "# MSE\n",
    "np.sqrt(metrics.mean_squared_error(imdb_final['lifetime_gross'], imdb_final['predictions']))"
   ]
  },
  {
   "cell_type": "code",
   "execution_count": 55,
   "metadata": {
    "collapsed": false
   },
   "outputs": [
    {
     "data": {
      "text/plain": [
       "14053009.380242547"
      ]
     },
     "execution_count": 55,
     "metadata": {},
     "output_type": "execute_result"
    }
   ],
   "source": [
    "# MAE - Scikit Learn\n",
    "metrics.mean_absolute_error(imdb_final['lifetime_gross'], imdb_final['predictions'])"
   ]
  },
  {
   "cell_type": "markdown",
   "metadata": {},
   "source": [
    "### Regression - StatsModels - Residual Plots"
   ]
  },
  {
   "cell_type": "code",
   "execution_count": 56,
   "metadata": {
    "collapsed": false
   },
   "outputs": [
    {
     "data": {
      "text/html": [
       "<table class=\"simpletable\">\n",
       "<caption>OLS Regression Results</caption>\n",
       "<tr>\n",
       "  <th>Dep. Variable:</th>     <td>lifetime_gross</td>  <th>  R-squared:         </th> <td>   0.820</td> \n",
       "</tr>\n",
       "<tr>\n",
       "  <th>Model:</th>                   <td>OLS</td>       <th>  Adj. R-squared:    </th> <td>   0.820</td> \n",
       "</tr>\n",
       "<tr>\n",
       "  <th>Method:</th>             <td>Least Squares</td>  <th>  F-statistic:       </th> <td>   3007.</td> \n",
       "</tr>\n",
       "<tr>\n",
       "  <th>Date:</th>             <td>Sun, 25 Dec 2016</td> <th>  Prob (F-statistic):</th>  <td>  0.00</td>  \n",
       "</tr>\n",
       "<tr>\n",
       "  <th>Time:</th>                 <td>13:35:43</td>     <th>  Log-Likelihood:    </th> <td> -73276.</td> \n",
       "</tr>\n",
       "<tr>\n",
       "  <th>No. Observations:</th>      <td>  3958</td>      <th>  AIC:               </th> <td>1.466e+05</td>\n",
       "</tr>\n",
       "<tr>\n",
       "  <th>Df Residuals:</th>          <td>  3951</td>      <th>  BIC:               </th> <td>1.466e+05</td>\n",
       "</tr>\n",
       "<tr>\n",
       "  <th>Df Model:</th>              <td>     6</td>      <th>                     </th>     <td> </td>    \n",
       "</tr>\n",
       "<tr>\n",
       "  <th>Covariance Type:</th>      <td>nonrobust</td>    <th>                     </th>     <td> </td>    \n",
       "</tr>\n",
       "</table>\n",
       "<table class=\"simpletable\">\n",
       "<tr>\n",
       "             <td></td>                <th>coef</th>     <th>std err</th>      <th>t</th>      <th>P>|t|</th> <th>[95.0% Conf. Int.]</th> \n",
       "</tr>\n",
       "<tr>\n",
       "  <th>Intercept</th>               <td> 1.535e+09</td> <td> 9.38e+07</td> <td>   16.365</td> <td> 0.000</td> <td> 1.35e+09  1.72e+09</td>\n",
       "</tr>\n",
       "<tr>\n",
       "  <th>votes</th>                   <td>  117.1400</td> <td>    4.963</td> <td>   23.601</td> <td> 0.000</td> <td>  107.409   126.871</td>\n",
       "</tr>\n",
       "<tr>\n",
       "  <th>rating</th>                  <td> 2.872e+05</td> <td> 4.89e+05</td> <td>    0.587</td> <td> 0.557</td> <td>-6.72e+05  1.25e+06</td>\n",
       "</tr>\n",
       "<tr>\n",
       "  <th>year_y</th>                  <td>-7.705e+05</td> <td> 4.68e+04</td> <td>  -16.457</td> <td> 0.000</td> <td>-8.62e+05 -6.79e+05</td>\n",
       "</tr>\n",
       "<tr>\n",
       "  <th>lifetime_gross_theaters</th> <td> 3.828e+04</td> <td> 1227.532</td> <td>   31.185</td> <td> 0.000</td> <td> 3.59e+04  4.07e+04</td>\n",
       "</tr>\n",
       "<tr>\n",
       "  <th>opening</th>                 <td>    2.6581</td> <td>    0.041</td> <td>   64.741</td> <td> 0.000</td> <td>    2.578     2.739</td>\n",
       "</tr>\n",
       "<tr>\n",
       "  <th>opening_theaters</th>        <td>-3.488e+04</td> <td> 1199.447</td> <td>  -29.081</td> <td> 0.000</td> <td>-3.72e+04 -3.25e+04</td>\n",
       "</tr>\n",
       "</table>\n",
       "<table class=\"simpletable\">\n",
       "<tr>\n",
       "  <th>Omnibus:</th>       <td>4239.514</td> <th>  Durbin-Watson:     </th>  <td>   1.844</td> \n",
       "</tr>\n",
       "<tr>\n",
       "  <th>Prob(Omnibus):</th>  <td> 0.000</td>  <th>  Jarque-Bera (JB):  </th> <td>730617.881</td>\n",
       "</tr>\n",
       "<tr>\n",
       "  <th>Skew:</th>           <td> 5.032</td>  <th>  Prob(JB):          </th>  <td>    0.00</td> \n",
       "</tr>\n",
       "<tr>\n",
       "  <th>Kurtosis:</th>       <td>68.795</td>  <th>  Cond. No.          </th>  <td>4.43e+09</td> \n",
       "</tr>\n",
       "</table>"
      ],
      "text/plain": [
       "<class 'statsmodels.iolib.summary.Summary'>\n",
       "\"\"\"\n",
       "                            OLS Regression Results                            \n",
       "==============================================================================\n",
       "Dep. Variable:         lifetime_gross   R-squared:                       0.820\n",
       "Model:                            OLS   Adj. R-squared:                  0.820\n",
       "Method:                 Least Squares   F-statistic:                     3007.\n",
       "Date:                Sun, 25 Dec 2016   Prob (F-statistic):               0.00\n",
       "Time:                        13:35:43   Log-Likelihood:                -73276.\n",
       "No. Observations:                3958   AIC:                         1.466e+05\n",
       "Df Residuals:                    3951   BIC:                         1.466e+05\n",
       "Df Model:                           6                                         \n",
       "Covariance Type:            nonrobust                                         \n",
       "===========================================================================================\n",
       "                              coef    std err          t      P>|t|      [95.0% Conf. Int.]\n",
       "-------------------------------------------------------------------------------------------\n",
       "Intercept                1.535e+09   9.38e+07     16.365      0.000      1.35e+09  1.72e+09\n",
       "votes                     117.1400      4.963     23.601      0.000       107.409   126.871\n",
       "rating                   2.872e+05   4.89e+05      0.587      0.557     -6.72e+05  1.25e+06\n",
       "year_y                  -7.705e+05   4.68e+04    -16.457      0.000     -8.62e+05 -6.79e+05\n",
       "lifetime_gross_theaters  3.828e+04   1227.532     31.185      0.000      3.59e+04  4.07e+04\n",
       "opening                     2.6581      0.041     64.741      0.000         2.578     2.739\n",
       "opening_theaters        -3.488e+04   1199.447    -29.081      0.000     -3.72e+04 -3.25e+04\n",
       "==============================================================================\n",
       "Omnibus:                     4239.514   Durbin-Watson:                   1.844\n",
       "Prob(Omnibus):                  0.000   Jarque-Bera (JB):           730617.881\n",
       "Skew:                           5.032   Prob(JB):                         0.00\n",
       "Kurtosis:                      68.795   Cond. No.                     4.43e+09\n",
       "==============================================================================\n",
       "\n",
       "Warnings:\n",
       "[1] Standard Errors assume that the covariance matrix of the errors is correctly specified.\n",
       "[2] The condition number is large, 4.43e+09. This might indicate that there are\n",
       "strong multicollinearity or other numerical problems.\n",
       "\"\"\""
      ]
     },
     "execution_count": 56,
     "metadata": {},
     "output_type": "execute_result"
    }
   ],
   "source": [
    "# Define the model \n",
    "model = smf.ols('lifetime_gross ~ votes + rating + year_y + lifetime_gross_theaters + opening + opening_theaters', data=imdb_final)\n",
    "# Fit the model\n",
    "fit = model.fit()\n",
    "# Check out the results\n",
    "fit.summary()"
   ]
  },
  {
   "cell_type": "code",
   "execution_count": 57,
   "metadata": {
    "collapsed": false
   },
   "outputs": [
    {
     "data": {
      "text/plain": [
       "<matplotlib.axes._subplots.AxesSubplot at 0x11a4159d0>"
      ]
     },
     "execution_count": 57,
     "metadata": {},
     "output_type": "execute_result"
    },
    {
     "data": {
      "image/png": "[encoded data removed]",
      "text/plain": [
       "<matplotlib.figure.Figure at 0x119ab1d90>"
      ]
     },
     "metadata": {},
     "output_type": "display_data"
    }
   ],
   "source": [
    "# Use statsmodels to plot the residuals\n",
    "# Accurate because most dots around zero\n",
    "fit.resid.plot(style='o', figsize=(12,8))"
   ]
  },
  {
   "cell_type": "markdown",
   "metadata": {},
   "source": [
    "### Regression - StatsModels - Array Method\n",
    "#### Shows importance of features based on p-values - votes most important feature"
   ]
  },
  {
   "cell_type": "code",
   "execution_count": 58,
   "metadata": {
    "collapsed": false
   },
   "outputs": [],
   "source": [
    "X2=X"
   ]
  },
  {
   "cell_type": "code",
   "execution_count": 59,
   "metadata": {
    "collapsed": false
   },
   "outputs": [
    {
     "data": {
      "text/html": [
       "<div>\n",
       "<table border=\"1\" class=\"dataframe\">\n",
       "  <thead>\n",
       "    <tr style=\"text-align: right;\">\n",
       "      <th></th>\n",
       "      <th>votes</th>\n",
       "      <th>rating</th>\n",
       "      <th>year_y</th>\n",
       "      <th>lifetime_gross_theaters</th>\n",
       "      <th>opening</th>\n",
       "      <th>opening_theaters</th>\n",
       "      <th>Index</th>\n",
       "    </tr>\n",
       "  </thead>\n",
       "  <tbody>\n",
       "    <tr>\n",
       "      <th>0</th>\n",
       "      <td>105847</td>\n",
       "      <td>5.1</td>\n",
       "      <td>2008</td>\n",
       "      <td>3454</td>\n",
       "      <td>35867488.0</td>\n",
       "      <td>3410</td>\n",
       "      <td>1</td>\n",
       "    </tr>\n",
       "    <tr>\n",
       "      <th>1</th>\n",
       "      <td>152912</td>\n",
       "      <td>4.9</td>\n",
       "      <td>2013</td>\n",
       "      <td>3401</td>\n",
       "      <td>27520040.0</td>\n",
       "      <td>3401</td>\n",
       "      <td>1</td>\n",
       "    </tr>\n",
       "  </tbody>\n",
       "</table>\n",
       "</div>"
      ],
      "text/plain": [
       "    votes  rating  year_y  lifetime_gross_theaters     opening  \\\n",
       "0  105847     5.1    2008                     3454  35867488.0   \n",
       "1  152912     4.9    2013                     3401  27520040.0   \n",
       "\n",
       "   opening_theaters  Index  \n",
       "0              3410      1  \n",
       "1              3401      1  "
      ]
     },
     "execution_count": 59,
     "metadata": {},
     "output_type": "execute_result"
    }
   ],
   "source": [
    "X2[\"Index\"] = 1\n",
    "X2.head(2)"
   ]
  },
  {
   "cell_type": "code",
   "execution_count": 60,
   "metadata": {
    "collapsed": false
   },
   "outputs": [
    {
     "data": {
      "text/html": [
       "<table class=\"simpletable\">\n",
       "<caption>OLS Regression Results</caption>\n",
       "<tr>\n",
       "  <th>Dep. Variable:</th>            <td>y</td>        <th>  R-squared:         </th> <td>   0.820</td> \n",
       "</tr>\n",
       "<tr>\n",
       "  <th>Model:</th>                   <td>OLS</td>       <th>  Adj. R-squared:    </th> <td>   0.820</td> \n",
       "</tr>\n",
       "<tr>\n",
       "  <th>Method:</th>             <td>Least Squares</td>  <th>  F-statistic:       </th> <td>   3007.</td> \n",
       "</tr>\n",
       "<tr>\n",
       "  <th>Date:</th>             <td>Sun, 25 Dec 2016</td> <th>  Prob (F-statistic):</th>  <td>  0.00</td>  \n",
       "</tr>\n",
       "<tr>\n",
       "  <th>Time:</th>                 <td>13:35:44</td>     <th>  Log-Likelihood:    </th> <td> -73276.</td> \n",
       "</tr>\n",
       "<tr>\n",
       "  <th>No. Observations:</th>      <td>  3958</td>      <th>  AIC:               </th> <td>1.466e+05</td>\n",
       "</tr>\n",
       "<tr>\n",
       "  <th>Df Residuals:</th>          <td>  3951</td>      <th>  BIC:               </th> <td>1.466e+05</td>\n",
       "</tr>\n",
       "<tr>\n",
       "  <th>Df Model:</th>              <td>     6</td>      <th>                     </th>     <td> </td>    \n",
       "</tr>\n",
       "<tr>\n",
       "  <th>Covariance Type:</th>      <td>nonrobust</td>    <th>                     </th>     <td> </td>    \n",
       "</tr>\n",
       "</table>\n",
       "<table class=\"simpletable\">\n",
       "<tr>\n",
       "    <td></td>       <th>coef</th>     <th>std err</th>      <th>t</th>      <th>P>|t|</th> <th>[95.0% Conf. Int.]</th> \n",
       "</tr>\n",
       "<tr>\n",
       "  <th>x1</th>    <td>  117.1400</td> <td>    4.963</td> <td>   23.601</td> <td> 0.000</td> <td>  107.409   126.871</td>\n",
       "</tr>\n",
       "<tr>\n",
       "  <th>x2</th>    <td> 2.872e+05</td> <td> 4.89e+05</td> <td>    0.587</td> <td> 0.557</td> <td>-6.72e+05  1.25e+06</td>\n",
       "</tr>\n",
       "<tr>\n",
       "  <th>x3</th>    <td>-7.705e+05</td> <td> 4.68e+04</td> <td>  -16.457</td> <td> 0.000</td> <td>-8.62e+05 -6.79e+05</td>\n",
       "</tr>\n",
       "<tr>\n",
       "  <th>x4</th>    <td> 3.828e+04</td> <td> 1227.532</td> <td>   31.185</td> <td> 0.000</td> <td> 3.59e+04  4.07e+04</td>\n",
       "</tr>\n",
       "<tr>\n",
       "  <th>x5</th>    <td>    2.6581</td> <td>    0.041</td> <td>   64.741</td> <td> 0.000</td> <td>    2.578     2.739</td>\n",
       "</tr>\n",
       "<tr>\n",
       "  <th>x6</th>    <td>-3.488e+04</td> <td> 1199.447</td> <td>  -29.081</td> <td> 0.000</td> <td>-3.72e+04 -3.25e+04</td>\n",
       "</tr>\n",
       "<tr>\n",
       "  <th>const</th> <td> 1.535e+09</td> <td> 9.38e+07</td> <td>   16.365</td> <td> 0.000</td> <td> 1.35e+09  1.72e+09</td>\n",
       "</tr>\n",
       "</table>\n",
       "<table class=\"simpletable\">\n",
       "<tr>\n",
       "  <th>Omnibus:</th>       <td>4239.514</td> <th>  Durbin-Watson:     </th>  <td>   1.844</td> \n",
       "</tr>\n",
       "<tr>\n",
       "  <th>Prob(Omnibus):</th>  <td> 0.000</td>  <th>  Jarque-Bera (JB):  </th> <td>730617.881</td>\n",
       "</tr>\n",
       "<tr>\n",
       "  <th>Skew:</th>           <td> 5.032</td>  <th>  Prob(JB):          </th>  <td>    0.00</td> \n",
       "</tr>\n",
       "<tr>\n",
       "  <th>Kurtosis:</th>       <td>68.795</td>  <th>  Cond. No.          </th>  <td>4.43e+09</td> \n",
       "</tr>\n",
       "</table>"
      ],
      "text/plain": [
       "<class 'statsmodels.iolib.summary.Summary'>\n",
       "\"\"\"\n",
       "                            OLS Regression Results                            \n",
       "==============================================================================\n",
       "Dep. Variable:                      y   R-squared:                       0.820\n",
       "Model:                            OLS   Adj. R-squared:                  0.820\n",
       "Method:                 Least Squares   F-statistic:                     3007.\n",
       "Date:                Sun, 25 Dec 2016   Prob (F-statistic):               0.00\n",
       "Time:                        13:35:44   Log-Likelihood:                -73276.\n",
       "No. Observations:                3958   AIC:                         1.466e+05\n",
       "Df Residuals:                    3951   BIC:                         1.466e+05\n",
       "Df Model:                           6                                         \n",
       "Covariance Type:            nonrobust                                         \n",
       "==============================================================================\n",
       "                 coef    std err          t      P>|t|      [95.0% Conf. Int.]\n",
       "------------------------------------------------------------------------------\n",
       "x1           117.1400      4.963     23.601      0.000       107.409   126.871\n",
       "x2          2.872e+05   4.89e+05      0.587      0.557     -6.72e+05  1.25e+06\n",
       "x3         -7.705e+05   4.68e+04    -16.457      0.000     -8.62e+05 -6.79e+05\n",
       "x4          3.828e+04   1227.532     31.185      0.000      3.59e+04  4.07e+04\n",
       "x5             2.6581      0.041     64.741      0.000         2.578     2.739\n",
       "x6         -3.488e+04   1199.447    -29.081      0.000     -3.72e+04 -3.25e+04\n",
       "const       1.535e+09   9.38e+07     16.365      0.000      1.35e+09  1.72e+09\n",
       "==============================================================================\n",
       "Omnibus:                     4239.514   Durbin-Watson:                   1.844\n",
       "Prob(Omnibus):                  0.000   Jarque-Bera (JB):           730617.881\n",
       "Skew:                           5.032   Prob(JB):                         0.00\n",
       "Kurtosis:                      68.795   Cond. No.                     4.43e+09\n",
       "==============================================================================\n",
       "\n",
       "Warnings:\n",
       "[1] Standard Errors assume that the covariance matrix of the errors is correctly specified.\n",
       "[2] The condition number is large, 4.43e+09. This might indicate that there are\n",
       "strong multicollinearity or other numerical problems.\n",
       "\"\"\""
      ]
     },
     "execution_count": 60,
     "metadata": {},
     "output_type": "execute_result"
    }
   ],
   "source": [
    "lm = smf.OLS(np.array(y), np.array(X2))\n",
    "results = lm.fit()\n",
    "results.summary()"
   ]
  },
  {
   "cell_type": "code",
   "execution_count": 61,
   "metadata": {
    "collapsed": false
   },
   "outputs": [
    {
     "data": {
      "text/plain": [
       "array([  1.17140002e+02,   2.87180528e+05,  -7.70529500e+05,\n",
       "         3.82807715e+04,   2.65810051e+00,  -3.48806297e+04,\n",
       "         1.53537107e+09])"
      ]
     },
     "execution_count": 61,
     "metadata": {},
     "output_type": "execute_result"
    }
   ],
   "source": [
    "results.params"
   ]
  },
  {
   "cell_type": "code",
   "execution_count": 62,
   "metadata": {
    "collapsed": false
   },
   "outputs": [
    {
     "data": {
      "text/plain": [
       "0.82035661907034696"
      ]
     },
     "execution_count": 62,
     "metadata": {},
     "output_type": "execute_result"
    }
   ],
   "source": [
    "results.rsquared"
   ]
  },
  {
   "cell_type": "code",
   "execution_count": 63,
   "metadata": {
    "collapsed": false
   },
   "outputs": [
    {
     "data": {
      "text/plain": [
       "array([[  1.07409084e+02,   1.26870920e+02],\n",
       "       [ -6.71892812e+05,   1.24625387e+06],\n",
       "       [ -8.62326039e+05,  -6.78732960e+05],\n",
       "       [  3.58741160e+04,   4.06874271e+04],\n",
       "       [  2.57760527e+00,   2.73859575e+00],\n",
       "       [ -3.72322238e+04,  -3.25290356e+04],\n",
       "       [  1.35143486e+09,   1.71930728e+09]])"
      ]
     },
     "execution_count": 63,
     "metadata": {},
     "output_type": "execute_result"
    }
   ],
   "source": [
    "# confidence intervals of coefficients\n",
    "results.conf_int()"
   ]
  },
  {
   "cell_type": "code",
   "execution_count": 64,
   "metadata": {
    "collapsed": false
   },
   "outputs": [
    {
     "data": {
      "text/plain": [
       "[('votes', array([  1.17140002e+02,   2.87180528e+05,  -7.70529500e+05,\n",
       "           3.82807715e+04,   2.65810051e+00,  -3.48806297e+04]))]"
      ]
     },
     "execution_count": 64,
     "metadata": {},
     "output_type": "execute_result"
    }
   ],
   "source": [
    "zip(features, lin_reg.coef_)"
   ]
  },
  {
   "cell_type": "code",
   "execution_count": 65,
   "metadata": {
    "collapsed": false
   },
   "outputs": [
    {
     "data": {
      "text/plain": [
       "[4.5756071994848993e-191,\n",
       " 1.1916560733941833e-168,\n",
       " 2.5347520966892195e-115,\n",
       " 6.5687256434470513e-59,\n",
       " 2.6859462146171326e-58,\n",
       " 0.55719528799805107]"
      ]
     },
     "execution_count": 65,
     "metadata": {},
     "output_type": "execute_result"
    }
   ],
   "source": [
    "# Sorted P-Values\n",
    "sorted_pvalues = sorted(results.pvalues)\n",
    "pvalues_results = sorted_pvalues[1:]\n",
    "pvalues_results"
   ]
  },
  {
   "cell_type": "code",
   "execution_count": 66,
   "metadata": {
    "collapsed": false
   },
   "outputs": [
    {
     "data": {
      "text/html": [
       "<div>\n",
       "<table border=\"1\" class=\"dataframe\">\n",
       "  <thead>\n",
       "    <tr style=\"text-align: right;\">\n",
       "      <th></th>\n",
       "      <th>feature</th>\n",
       "      <th>p_value</th>\n",
       "    </tr>\n",
       "  </thead>\n",
       "  <tbody>\n",
       "    <tr>\n",
       "      <th>0</th>\n",
       "      <td>votes</td>\n",
       "      <td>4.575607e-191</td>\n",
       "    </tr>\n",
       "    <tr>\n",
       "      <th>1</th>\n",
       "      <td>rating</td>\n",
       "      <td>1.191656e-168</td>\n",
       "    </tr>\n",
       "    <tr>\n",
       "      <th>2</th>\n",
       "      <td>year_y</td>\n",
       "      <td>2.534752e-115</td>\n",
       "    </tr>\n",
       "    <tr>\n",
       "      <th>3</th>\n",
       "      <td>lifetime_gross_theaters</td>\n",
       "      <td>6.568726e-59</td>\n",
       "    </tr>\n",
       "    <tr>\n",
       "      <th>4</th>\n",
       "      <td>opening</td>\n",
       "      <td>2.685946e-58</td>\n",
       "    </tr>\n",
       "    <tr>\n",
       "      <th>5</th>\n",
       "      <td>opening_theaters</td>\n",
       "      <td>5.571953e-01</td>\n",
       "    </tr>\n",
       "  </tbody>\n",
       "</table>\n",
       "</div>"
      ],
      "text/plain": [
       "                   feature        p_value\n",
       "0                    votes  4.575607e-191\n",
       "1                   rating  1.191656e-168\n",
       "2                   year_y  2.534752e-115\n",
       "3  lifetime_gross_theaters   6.568726e-59\n",
       "4                  opening   2.685946e-58\n",
       "5         opening_theaters   5.571953e-01"
      ]
     },
     "execution_count": 66,
     "metadata": {},
     "output_type": "execute_result"
    }
   ],
   "source": [
    "#Sort by best pvalue features dataFrame\n",
    "p = pd.DataFrame({'p_value':pvalues_results, 'feature':features})\n",
    "p"
   ]
  },
  {
   "cell_type": "code",
   "execution_count": 67,
   "metadata": {
    "collapsed": false
   },
   "outputs": [
    {
     "data": {
      "text/plain": [
       "['votes', 'rating', 'year_y', 'lifetime_gross_theaters', 'opening']"
      ]
     },
     "execution_count": 67,
     "metadata": {},
     "output_type": "execute_result"
    }
   ],
   "source": [
    "relevant_features = list(p[p.p_value < .05]['feature'])\n",
    "relevant_features"
   ]
  },
  {
   "cell_type": "markdown",
   "metadata": {},
   "source": [
    "### Decision Trees"
   ]
  },
  {
   "cell_type": "markdown",
   "metadata": {},
   "source": [
    "#### Decision Tree Model gives lower r^2 of 60.5% and depicts different feature importance set"
   ]
  },
  {
   "cell_type": "code",
   "execution_count": 68,
   "metadata": {
    "collapsed": true
   },
   "outputs": [],
   "source": [
    "# split the data into training and test sets\n",
    "X_train, X_test, y_train, y_test = train_test_split(X,y, random_state=1)"
   ]
  },
  {
   "cell_type": "code",
   "execution_count": 69,
   "metadata": {
    "collapsed": true
   },
   "outputs": [],
   "source": [
    "# Create a decision tree classifier instance (start out with a small tree for interpretability)\n",
    "ctree = tree.DecisionTreeRegressor(random_state=1)"
   ]
  },
  {
   "cell_type": "code",
   "execution_count": 70,
   "metadata": {
    "collapsed": false
   },
   "outputs": [
    {
     "data": {
      "text/plain": [
       "DecisionTreeRegressor(criterion='mse', max_depth=None, max_features=None,\n",
       "           max_leaf_nodes=None, min_impurity_split=1e-07,\n",
       "           min_samples_leaf=1, min_samples_split=2,\n",
       "           min_weight_fraction_leaf=0.0, presort=False, random_state=1,\n",
       "           splitter='best')"
      ]
     },
     "execution_count": 70,
     "metadata": {},
     "output_type": "execute_result"
    }
   ],
   "source": [
    "# Fit the decision tree classifier\n",
    "ctree.fit(X_train, y_train)"
   ]
  },
  {
   "cell_type": "code",
   "execution_count": 71,
   "metadata": {
    "collapsed": true
   },
   "outputs": [],
   "source": [
    "# Create a feature vector\n",
    "features2 = X_train.columns.tolist()"
   ]
  },
  {
   "cell_type": "code",
   "execution_count": 72,
   "metadata": {
    "collapsed": false
   },
   "outputs": [
    {
     "data": {
      "text/plain": [
       "['votes',\n",
       " 'rating',\n",
       " 'year_y',\n",
       " u'lifetime_gross_theaters',\n",
       " u'opening',\n",
       " u'opening_theaters',\n",
       " 'Index']"
      ]
     },
     "execution_count": 72,
     "metadata": {},
     "output_type": "execute_result"
    }
   ],
   "source": [
    "features2"
   ]
  },
  {
   "cell_type": "code",
   "execution_count": 73,
   "metadata": {
    "collapsed": true
   },
   "outputs": [],
   "source": [
    "# predictions_tree\n",
    "predictions_tree = ctree.predict(X_test)"
   ]
  },
  {
   "cell_type": "code",
   "execution_count": 74,
   "metadata": {
    "collapsed": false
   },
   "outputs": [
    {
     "data": {
      "text/plain": [
       "0.60524228246263756"
      ]
     },
     "execution_count": 74,
     "metadata": {},
     "output_type": "execute_result"
    }
   ],
   "source": [
    "# R Squared - Scikit Learn\n",
    "metrics.r2_score(y_test, predictions_tree)"
   ]
  },
  {
   "cell_type": "code",
   "execution_count": 75,
   "metadata": {
    "collapsed": false
   },
   "outputs": [
    {
     "data": {
      "text/plain": [
       "15726128.252525253"
      ]
     },
     "execution_count": 75,
     "metadata": {},
     "output_type": "execute_result"
    }
   ],
   "source": [
    "# MAE\n",
    "metrics.mean_absolute_error(y_test, predictions_tree)"
   ]
  },
  {
   "cell_type": "code",
   "execution_count": 76,
   "metadata": {
    "collapsed": false
   },
   "outputs": [
    {
     "data": {
      "text/plain": [
       "39574427.315987639"
      ]
     },
     "execution_count": 76,
     "metadata": {},
     "output_type": "execute_result"
    }
   ],
   "source": [
    "# MSE\n",
    "np.sqrt(metrics.mean_squared_error(y_test, predictions_tree))"
   ]
  },
  {
   "cell_type": "code",
   "execution_count": 77,
   "metadata": {
    "collapsed": false
   },
   "outputs": [
    {
     "data": {
      "text/html": [
       "<div>\n",
       "<table border=\"1\" class=\"dataframe\">\n",
       "  <thead>\n",
       "    <tr style=\"text-align: right;\">\n",
       "      <th></th>\n",
       "      <th>0</th>\n",
       "      <th>1</th>\n",
       "    </tr>\n",
       "  </thead>\n",
       "  <tbody>\n",
       "    <tr>\n",
       "      <th>4</th>\n",
       "      <td>opening</td>\n",
       "      <td>0.741698</td>\n",
       "    </tr>\n",
       "    <tr>\n",
       "      <th>0</th>\n",
       "      <td>votes</td>\n",
       "      <td>0.067361</td>\n",
       "    </tr>\n",
       "    <tr>\n",
       "      <th>1</th>\n",
       "      <td>rating</td>\n",
       "      <td>0.061283</td>\n",
       "    </tr>\n",
       "    <tr>\n",
       "      <th>5</th>\n",
       "      <td>opening_theaters</td>\n",
       "      <td>0.054925</td>\n",
       "    </tr>\n",
       "    <tr>\n",
       "      <th>3</th>\n",
       "      <td>lifetime_gross_theaters</td>\n",
       "      <td>0.048228</td>\n",
       "    </tr>\n",
       "    <tr>\n",
       "      <th>2</th>\n",
       "      <td>year_y</td>\n",
       "      <td>0.026506</td>\n",
       "    </tr>\n",
       "    <tr>\n",
       "      <th>6</th>\n",
       "      <td>Index</td>\n",
       "      <td>0.000000</td>\n",
       "    </tr>\n",
       "  </tbody>\n",
       "</table>\n",
       "</div>"
      ],
      "text/plain": [
       "                         0         1\n",
       "4                  opening  0.741698\n",
       "0                    votes  0.067361\n",
       "1                   rating  0.061283\n",
       "5         opening_theaters  0.054925\n",
       "3  lifetime_gross_theaters  0.048228\n",
       "2                   year_y  0.026506\n",
       "6                    Index  0.000000"
      ]
     },
     "execution_count": 77,
     "metadata": {},
     "output_type": "execute_result"
    }
   ],
   "source": [
    "# Which features are the most important?\n",
    "# Clean up the output. # will add up to 1. Think %\n",
    "pd.DataFrame(zip(list(X.columns), ctree.feature_importances_)).sort_values(by=1, ascending=False)"
   ]
  },
  {
   "cell_type": "markdown",
   "metadata": {},
   "source": [
    "### Random Forest"
   ]
  },
  {
   "cell_type": "markdown",
   "metadata": {},
   "source": [
    "#### Random Forrest Model gives slightly lower r^2 of 78.7% and depicts different feature importance set"
   ]
  },
  {
   "cell_type": "code",
   "execution_count": 78,
   "metadata": {
    "collapsed": false
   },
   "outputs": [
    {
     "data": {
      "text/plain": [
       "RandomForestRegressor(bootstrap=True, criterion='mse', max_depth=None,\n",
       "           max_features='auto', max_leaf_nodes=None,\n",
       "           min_impurity_split=1e-07, min_samples_leaf=1,\n",
       "           min_samples_split=2, min_weight_fraction_leaf=0.0,\n",
       "           n_estimators=100, n_jobs=1, oob_score=True, random_state=1,\n",
       "           verbose=0, warm_start=False)"
      ]
     },
     "execution_count": 78,
     "metadata": {},
     "output_type": "execute_result"
    }
   ],
   "source": [
    "rfclf = RandomForestRegressor(n_estimators=100, max_features='auto', oob_score=True, random_state=1)\n",
    "rfclf.fit(X_train, y_train)"
   ]
  },
  {
   "cell_type": "code",
   "execution_count": 79,
   "metadata": {
    "collapsed": true
   },
   "outputs": [],
   "source": [
    "predictions_tree = rfclf.predict(X_test)"
   ]
  },
  {
   "cell_type": "code",
   "execution_count": 80,
   "metadata": {
    "collapsed": false
   },
   "outputs": [
    {
     "data": {
      "text/plain": [
       "0.78742068688284461"
      ]
     },
     "execution_count": 80,
     "metadata": {},
     "output_type": "execute_result"
    }
   ],
   "source": [
    "# R2\n",
    "metrics.r2_score(y_test, predictions_tree)"
   ]
  },
  {
   "cell_type": "code",
   "execution_count": 81,
   "metadata": {
    "collapsed": false
   },
   "outputs": [
    {
     "data": {
      "text/plain": [
       "12202244.542131314"
      ]
     },
     "execution_count": 81,
     "metadata": {},
     "output_type": "execute_result"
    }
   ],
   "source": [
    "# MEA\n",
    "metrics.mean_absolute_error(y_test, predictions_tree)"
   ]
  },
  {
   "cell_type": "code",
   "execution_count": 82,
   "metadata": {
    "collapsed": false
   },
   "outputs": [
    {
     "data": {
      "text/plain": [
       "29040883.457348064"
      ]
     },
     "execution_count": 82,
     "metadata": {},
     "output_type": "execute_result"
    }
   ],
   "source": [
    "# MSE\n",
    "np.sqrt(metrics.mean_squared_error(y_test, predictions_tree))"
   ]
  },
  {
   "cell_type": "code",
   "execution_count": 83,
   "metadata": {
    "collapsed": false
   },
   "outputs": [
    {
     "data": {
      "text/html": [
       "<div>\n",
       "<table border=\"1\" class=\"dataframe\">\n",
       "  <thead>\n",
       "    <tr style=\"text-align: right;\">\n",
       "      <th></th>\n",
       "      <th>0</th>\n",
       "      <th>1</th>\n",
       "    </tr>\n",
       "  </thead>\n",
       "  <tbody>\n",
       "    <tr>\n",
       "      <th>4</th>\n",
       "      <td>opening</td>\n",
       "      <td>0.747734</td>\n",
       "    </tr>\n",
       "    <tr>\n",
       "      <th>0</th>\n",
       "      <td>votes</td>\n",
       "      <td>0.083793</td>\n",
       "    </tr>\n",
       "    <tr>\n",
       "      <th>3</th>\n",
       "      <td>lifetime_gross_theaters</td>\n",
       "      <td>0.051705</td>\n",
       "    </tr>\n",
       "    <tr>\n",
       "      <th>5</th>\n",
       "      <td>opening_theaters</td>\n",
       "      <td>0.042593</td>\n",
       "    </tr>\n",
       "    <tr>\n",
       "      <th>1</th>\n",
       "      <td>rating</td>\n",
       "      <td>0.041977</td>\n",
       "    </tr>\n",
       "    <tr>\n",
       "      <th>2</th>\n",
       "      <td>year_y</td>\n",
       "      <td>0.032198</td>\n",
       "    </tr>\n",
       "    <tr>\n",
       "      <th>6</th>\n",
       "      <td>Index</td>\n",
       "      <td>0.000000</td>\n",
       "    </tr>\n",
       "  </tbody>\n",
       "</table>\n",
       "</div>"
      ],
      "text/plain": [
       "                         0         1\n",
       "4                  opening  0.747734\n",
       "0                    votes  0.083793\n",
       "3  lifetime_gross_theaters  0.051705\n",
       "5         opening_theaters  0.042593\n",
       "1                   rating  0.041977\n",
       "2                   year_y  0.032198\n",
       "6                    Index  0.000000"
      ]
     },
     "execution_count": 83,
     "metadata": {},
     "output_type": "execute_result"
    }
   ],
   "source": [
    "# compute the feature importances\n",
    "rf_feature_imp = pd.DataFrame(zip(list(X.columns), rfclf.feature_importances_)).sort_index(by=1, ascending=False)\n",
    "rf_feature_imp"
   ]
  },
  {
   "cell_type": "markdown",
   "metadata": {},
   "source": [
    "## Simple Test Case <a name=\"Simple Test Case\"></a>"
   ]
  },
  {
   "cell_type": "markdown",
   "metadata": {},
   "source": [
    "#### Simple test case of a 9 star rating with a 10,000,000 and 150,000 is predicted to make about $120 million in lifetime gross"
   ]
  },
  {
   "cell_type": "code",
   "execution_count": 84,
   "metadata": {
    "collapsed": false
   },
   "outputs": [
    {
     "data": {
      "text/plain": [
       "120888161.83"
      ]
     },
     "execution_count": 84,
     "metadata": {},
     "output_type": "execute_result"
    }
   ],
   "source": [
    "X_sub_features = imdb_final[['rating', 'opening', 'votes']]\n",
    "\n",
    "X_train, X_test, y_train, y_test = train_test_split(X_sub_features,y, random_state=1)\n",
    "rfclf = RandomForestRegressor(n_estimators=100, max_features='auto', oob_score=True, random_state=1)\n",
    "rfclf.fit(X_train, y_train)\n",
    "\n",
    "predictions_tree = rfclf.predict(X_test)\n",
    "metrics.r2_score(y_test, predictions_tree)\n",
    "\n",
    "# To Predict a Movie Revenue\n",
    "rfclf.predict([9, 10000000, 150000])[0]"
   ]
  },
  {
   "cell_type": "code",
   "execution_count": 85,
   "metadata": {
    "collapsed": false
   },
   "outputs": [
    {
     "data": {
      "text/plain": [
       "array([ 0.07129083,  0.79537188,  0.13333729])"
      ]
     },
     "execution_count": 85,
     "metadata": {},
     "output_type": "execute_result"
    }
   ],
   "source": [
    "rfclf.feature_importances_"
   ]
  }
 ],
 "metadata": {
  "kernelspec": {
   "display_name": "Python 2",
   "language": "python",
   "name": "python2"
  },
  "language_info": {
   "codemirror_mode": {
    "name": "ipython",
    "version": 2
   },
   "file_extension": ".py",
   "mimetype": "text/x-python",
   "name": "python",
   "nbconvert_exporter": "python",
   "pygments_lexer": "ipython2",
   "version": "2.7.11"
  }
 },
 "nbformat": 4,
 "nbformat_minor": 0
}
