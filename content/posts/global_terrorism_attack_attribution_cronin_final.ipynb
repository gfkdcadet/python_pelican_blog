{
 "cells": [
  {
   "cell_type": "markdown",
   "metadata": {},
   "source": [
    "# Starup.ML - Global Terrorism Attact Attribution Challenge\n",
    "## Chris Cronin"
   ]
  },
  {
   "cell_type": "markdown",
   "metadata": {},
   "source": [
    "This github post is part of a submission for Startup.ML's San Francisco fellowship. To showcase my knowledge and skill level with data science, I chose to work on the Global Terrorism Attack Attribution problem, which asks to build a model that can predict what terrorist group is responsible for attacks where the terrorist group is unknown. The decision tree grid search classification model had the highest accuracy (95%) for predicting the terrorist group of in sample test data.\n",
    "\n",
    "The data for this challenge can be found at https://www.start.umd.edu/gtd/\n",
    "\n",
    "Download this file: globalterrorismdb_0615dist\n",
    "\n",
    "Save it as a csv with the name: terrorist_data.csv"
   ]
  },
  {
   "cell_type": "markdown",
   "metadata": {},
   "source": [
    "## Agenda\n",
    "\n",
    "1. Problem Statement\n",
    "2. Data Extraction / Loading\n",
    "3. Data Cleaning (Fill Null values)\n",
    "4. Model Setup\n",
    "5. Model Evaluation\n",
    "6. Insights / Conclusion"
   ]
  },
  {
   "cell_type": "markdown",
   "metadata": {},
   "source": [
    "## Imports"
   ]
  },
  {
   "cell_type": "code",
   "execution_count": 1,
   "metadata": {
    "collapsed": false
   },
   "outputs": [
    {
     "name": "stderr",
     "output_type": "stream",
     "text": [
      "/Users/Cronin/anaconda/lib/python2.7/site-packages/IPython/html.py:14: ShimWarning: The `IPython.html` package has been deprecated. You should import from `notebook` instead. `IPython.html.widgets` has moved to `ipywidgets`.\n",
      "  \"`IPython.html.widgets` has moved to `ipywidgets`.\", ShimWarning)\n"
     ]
    }
   ],
   "source": [
    "%matplotlib inline\n",
    "import os\n",
    "import json\n",
    "import pickle\n",
    "import numpy as np\n",
    "import pandas as pd\n",
    "from matplotlib import pyplot as plt\n",
    "import statsmodels.formula.api as smf\n",
    "import patsy\n",
    "import seaborn as sns\n",
    "from seaborn import plt\n",
    "from sklearn.linear_model import LinearRegression\n",
    "from sklearn import metrics\n",
    "from sklearn import tree\n",
    "from sklearn.ensemble import RandomForestRegressor\n",
    "from sklearn.linear_model import LinearRegression\n",
    "from seaborn import plt\n",
    "import random \n",
    "from __future__ import division\n",
    "from matplotlib import pyplot\n",
    "import matplotlib.pyplot as plt \n",
    "from sklearn.cross_validation import train_test_split\n",
    "from sklearn.neighbors import KNeighborsClassifier\n",
    "from sklearn.metrics import accuracy_score\n",
    "from sklearn.linear_model import LogisticRegression\n",
    "from sklearn import linear_model\n",
    "pd.set_option('max_info_columns', 200)"
   ]
  },
  {
   "cell_type": "markdown",
   "metadata": {},
   "source": [
    "## Part 1: Problem Statement\n",
    "\n",
    "- Global Terrorism Database (GTD) is an open-source database including information on terrorist events around the world from 1970 through 2014. Some portion of the attacks have not been attributed to a particular terrorist group.\n",
    "- Use attack type, weapons used, description of the attack, etc. to build a model that can predict what group may have been responsible for an incident. "
   ]
  },
  {
   "cell_type": "markdown",
   "metadata": {},
   "source": [
    "## Part 2: Data Extraction / Loading\n",
    " - globalterrrorismdb_0615dist.xlsx can be downloaded from [Global Terrorism Database](/http://www.start.umd.edu/gtd/)\n",
    " - Converted to csv file called \"terrorist_data.csv\"\n",
    " - Review GTD Codebook with feature descriptions"
   ]
  },
  {
   "cell_type": "code",
   "execution_count": 3,
   "metadata": {
    "collapsed": false
   },
   "outputs": [
    {
     "name": "stderr",
     "output_type": "stream",
     "text": [
      "/Users/Cronin/anaconda/lib/python2.7/site-packages/IPython/core/interactiveshell.py:2902: DtypeWarning: Columns (4,6,13,31,33,53,61,62,63,75,78,91,93,95,113,114,120) have mixed types. Specify dtype option on import or set low_memory=False.\n",
      "  interactivity=interactivity, compiler=compiler, result=result)\n"
     ]
    }
   ],
   "source": [
    "terrorism = pd.read_csv('terrorist_data.csv')"
   ]
  },
  {
   "cell_type": "markdown",
   "metadata": {},
   "source": [
    "- Filtered dataset to include only information starting from 1998 because many of the GTD Codebook Features only apply to terrorism incidents occuring after 1997. "
   ]
  },
  {
   "cell_type": "code",
   "execution_count": 4,
   "metadata": {
    "collapsed": false
   },
   "outputs": [],
   "source": [
    "terrorism_98 = terrorism[terrorism.iyear >= 1998]"
   ]
  },
  {
   "cell_type": "markdown",
   "metadata": {},
   "source": [
    "- Binary Features: Replace Columns that contain \"9\" or \"99\" for unkown values with np.nan"
   ]
  },
  {
   "cell_type": "code",
   "execution_count": 5,
   "metadata": {
    "collapsed": false
   },
   "outputs": [],
   "source": [
    "def fill_nines(df):\n",
    "    missing_value_as_neg_nines = [\"ishostkid\", \"property\",\"INT_LOG\",\"INT_IDEO\",\"INT_MISC\",\"INT_ANY\"]\n",
    "    for col in missing_value_as_neg_nines:\n",
    "        df.loc[df[col] == -9, col] = np.nan\n",
    "    missing_value_as_neg_ninetynines = [\"nhostkid\",\"nhostkidus\",\"nhours\",\"nperpcap\",\"nperps\"]\n",
    "    for col in missing_value_as_neg_ninetynines:\n",
    "        df.loc[df[col] == -99, col] = np.nan\n",
    "    return df"
   ]
  },
  {
   "cell_type": "code",
   "execution_count": 6,
   "metadata": {
    "collapsed": false
   },
   "outputs": [
    {
     "name": "stderr",
     "output_type": "stream",
     "text": [
      "/Users/Cronin/anaconda/lib/python2.7/site-packages/pandas/core/indexing.py:426: SettingWithCopyWarning: \n",
      "A value is trying to be set on a copy of a slice from a DataFrame.\n",
      "Try using .loc[row_indexer,col_indexer] = value instead\n",
      "\n",
      "See the caveats in the documentation: http://pandas.pydata.org/pandas-docs/stable/indexing.html#indexing-view-versus-copy\n",
      "  self.obj[item] = s\n"
     ]
    }
   ],
   "source": [
    "terrorism_98 = fill_nines(terrorism_98)"
   ]
  },
  {
   "cell_type": "markdown",
   "metadata": {},
   "source": [
    "- \"gname\" response feature colum contains the name of the terrorist group that carried out the attack.\n",
    "- Filtered dataframe to create out of sample data where \"gname\" for rows is \"Unknown\"\n",
    "- Filtered datafame for rows with a \"gname\" for terrorist group names that occur at least 50 times in the dataset"
   ]
  },
  {
   "cell_type": "code",
   "execution_count": 7,
   "metadata": {
    "collapsed": false
   },
   "outputs": [],
   "source": [
    "# create out of sample dataframe where gname is unknown or blank\n",
    "terrorism_98_nognames = terrorism_98[terrorism_98.gname == \"Unknown\"]\n",
    "\n",
    "# Change existing terrorism_98 dataframe to only include rows that include a gname\n",
    "terrorism_98 = terrorism_98[terrorism_98.gname != \"Unknown\"]\n",
    "\n",
    "# Filter for gname responses that at least occur 50 times \n",
    "gname_counts = terrorism_98.gname.value_counts()\n",
    "gnames_over_threshold = gname_counts[gname_counts > 50].index\n",
    "terrorism_98 = terrorism_98[terrorism_98.gname.isin(gnames_over_threshold)]"
   ]
  },
  {
   "cell_type": "code",
   "execution_count": 55,
   "metadata": {
    "collapsed": false
   },
   "outputs": [
    {
     "name": "stdout",
     "output_type": "stream",
     "text": [
      "('number of unique gnames:', 75)\n",
      "('number of unique gnames:', 1)\n"
     ]
    }
   ],
   "source": [
    "print(\"number of unique gnames:\",terrorism_98.gname.unique().size)\n",
    "print(\"number of unique gnames:\",terrorism_98_nognames.gname.unique().size) # only one: \"unkown\""
   ]
  },
  {
   "cell_type": "markdown",
   "metadata": {},
   "source": [
    "- Function to filter dataframe by quantity of null values\n",
    "- Threshold: 80% of rows filled or 20% of rows not filled"
   ]
  },
  {
   "cell_type": "code",
   "execution_count": 9,
   "metadata": {
    "collapsed": false
   },
   "outputs": [],
   "source": [
    "def get_feature_subset_nulls(df, response_col, threshold=0.2):\n",
    "    \"\"\"\n",
    "    Returns Features that have less than 20% missing values.\n",
    "    \"\"\"\n",
    "    #Applying per column: Defined by axis=0\n",
    "    feature_null_counts = df.apply(lambda col: col.isnull().sum(), axis=0)\n",
    "\n",
    "    num_rows = len(df)\n",
    "    features = feature_null_counts[feature_null_counts < (threshold * num_rows)].index.difference([response_col])\n",
    "    # Exclude features that are Text (these end with _txt)\n",
    "    features = features[~features.str.endswith(\"_txt\")]\n",
    "\n",
    "    return features"
   ]
  },
  {
   "cell_type": "code",
   "execution_count": 10,
   "metadata": {
    "collapsed": false
   },
   "outputs": [
    {
     "data": {
      "text/plain": [
       "Index([u'INT_ANY', u'INT_MISC', u'attacktype1', u'city', u'claimed', u'corp1',\n",
       "       u'country', u'crit1', u'crit2', u'crit3', u'dbsource', u'doubtterr',\n",
       "       u'eventid', u'extended', u'guncertain1', u'iday', u'imonth',\n",
       "       u'ishostkid', u'iyear', u'latitude', u'longitude', u'multiple',\n",
       "       u'natlty1', u'nkill', u'nkillter', u'nkillus', u'nperpcap', u'nwound',\n",
       "       u'nwoundte', u'nwoundus', u'property', u'provstate', u'region',\n",
       "       u'scite1', u'specificity', u'success', u'suicide', u'summary',\n",
       "       u'target1', u'targsubtype1', u'targtype1', u'vicinity', u'weapsubtype1',\n",
       "       u'weaptype1'],\n",
       "      dtype='object')"
      ]
     },
     "execution_count": 10,
     "metadata": {},
     "output_type": "execute_result"
    }
   ],
   "source": [
    "features = get_feature_subset_nulls(terrorism_98, \"gname\")\n",
    "features"
   ]
  },
  {
   "cell_type": "markdown",
   "metadata": {},
   "source": [
    "- numeric_features below includes all non object/text features from \"features\" above except eventid, which is unnecessary in the model because it represents a unique id per attack."
   ]
  },
  {
   "cell_type": "code",
   "execution_count": 11,
   "metadata": {
    "collapsed": true
   },
   "outputs": [],
   "source": [
    "numeric_features = ['INT_ANY','INT_IDEO','INT_LOG','INT_MISC', \n",
    "                    'attacktype1','claimed', 'country', 'crit1', \n",
    "                    'crit2', 'crit3', 'doubtterr','extended', \n",
    "                    'guncertain1','iday','imonth','ishostkid', \n",
    "                    'iyear','multiple','natlty1', 'nkill', \n",
    "                    'nkillter', 'nkillus', 'nperpcap','nperps', \n",
    "                    'nwound', 'nwoundte', 'nwoundus', 'property', \n",
    "                    'region', 'specificity', 'success', 'suicide', \n",
    "                    'targsubtype1', 'targtype1', 'vicinity', \n",
    "                    'weapsubtype1', 'weaptype1']"
   ]
  },
  {
   "cell_type": "markdown",
   "metadata": {},
   "source": [
    "- text_featues includes all object/text columns from \"features\" above as well as two new features: \"location\" and \"target2\", which I felt could be important features that didn't meet the threshold of 0.2"
   ]
  },
  {
   "cell_type": "code",
   "execution_count": 12,
   "metadata": {
    "collapsed": false
   },
   "outputs": [],
   "source": [
    "text_features = ['provstate','location','city',\n",
    "                 'summary','target1','target2',\n",
    "                 'scite1','dbsource','corp1']\n",
    "\n",
    "all_features = numeric_features + text_features"
   ]
  },
  {
   "cell_type": "markdown",
   "metadata": {},
   "source": [
    "## Part 3: Data Cleaning (Fill Null Values)"
   ]
  },
  {
   "cell_type": "markdown",
   "metadata": {},
   "source": [
    "- Numeric Binary Features: Fill null values with probability weighted 0's and 1's from existing probability distribution of filled values"
   ]
  },
  {
   "cell_type": "code",
   "execution_count": 13,
   "metadata": {
    "collapsed": false
   },
   "outputs": [],
   "source": [
    "def binary_fill(df, fill_values):\n",
    "    binary_columns_notfull = [\"ishostkid\", \"property\",\"INT_LOG\",\"INT_IDEO\",\"INT_MISC\",\"INT_ANY\",'guncertain1']\n",
    "    for col in binary_columns_notfull:\n",
    "        if col not in fill_values:\n",
    "            col_pd = df[col].value_counts()/df[col].value_counts().sum()\n",
    "            fill_values[col] = col_pd[0]\n",
    "        df.loc[df[col].isnull(), col] = np.random.choice([0,1], size=df[col].isnull().sum(), p=[fill_values[col], 1 - fill_values[col]])\n",
    "    return df"
   ]
  },
  {
   "cell_type": "markdown",
   "metadata": {},
   "source": [
    "- Numeric Range Features: Replace null values with random choice of range integers weighted by their existing probability distribution of filled values"
   ]
  },
  {
   "cell_type": "code",
   "execution_count": 14,
   "metadata": {
    "collapsed": true
   },
   "outputs": [],
   "source": [
    "def range_fill(df, fill_values):\n",
    "    range_columns_notfull = [\"targsubtype1\",\"weapsubtype1\",\"natlty1\",\"specificity\"]\n",
    "    for col in range_columns_notfull:\n",
    "        if col not in fill_values:\n",
    "            col_dist = df[col].value_counts()/df[col].value_counts().sum()\n",
    "            fill_values[col] = col_dist\n",
    "        \n",
    "        col_val_missing = df[col].isnull()\n",
    "        df.ix[col_val_missing, col] = np.random.choice(fill_values[col].index, size=col_val_missing.sum(), p=fill_values[col].values)\n",
    "    return df"
   ]
  },
  {
   "cell_type": "markdown",
   "metadata": {},
   "source": [
    "- Numeric Value Features: Replace null values with median value"
   ]
  },
  {
   "cell_type": "code",
   "execution_count": 15,
   "metadata": {
    "collapsed": true
   },
   "outputs": [],
   "source": [
    "def numeric_fill(df, fill_values):\n",
    "    numeric_columns_notfull = [\"nkill\",\"nkillus\",\"nkillter\",\"nwound\",\"nwoundus\",\"nwoundte\",'nperpcap','nperps']\n",
    "    for col in numeric_columns_notfull:\n",
    "        if col not in fill_values:\n",
    "            fill_values[col] = df[col].median()\n",
    "\n",
    "        df.ix[df[col].isnull(), col] = fill_values[col]\n",
    "    return df"
   ]
  },
  {
   "cell_type": "markdown",
   "metadata": {},
   "source": [
    "- Function that fills numeric feature null values based on three functions above: binary_fill,range_fill, and numeric_fill"
   ]
  },
  {
   "cell_type": "code",
   "execution_count": 16,
   "metadata": {
    "collapsed": true
   },
   "outputs": [],
   "source": [
    "def gen_numeric_features(features):\n",
    "    \n",
    "    binary_fill_values = {}\n",
    "    range_fill_values = {}\n",
    "    numerc_fill_values = {}\n",
    "    \n",
    "    def transform_numeric_features(df):\n",
    "        df = df[features]\n",
    "        df = binary_fill(df, binary_fill_values)\n",
    "        df = range_fill(df, range_fill_values)\n",
    "        df = numeric_fill(df, numerc_fill_values)\n",
    "        \n",
    "        return df\n",
    "\n",
    "    return transform_numeric_features"
   ]
  },
  {
   "cell_type": "markdown",
   "metadata": {},
   "source": [
    "## Part 4: Model Setup"
   ]
  },
  {
   "cell_type": "code",
   "execution_count": 17,
   "metadata": {
    "collapsed": true
   },
   "outputs": [],
   "source": [
    "from sklearn.feature_extraction.text import CountVectorizer"
   ]
  },
  {
   "cell_type": "markdown",
   "metadata": {},
   "source": [
    "### Combining feature extraction steps\n",
    "- Description here from Kevin Markham's Machine Learning with Text in Python Part-Time Course\n",
    "- **`FeatureUnion`** applies a list of transformers in parallel to the input data (not sequentially), then **concatenates the results**. This is useful for combining several feature extraction mechanisms into a single transformer.\n",
    "- A pipeline sequentially applies a list of transformers and a final estimator. \n",
    "- Function below creates a union through a pipeline of both numeric and text features transformed to a document-term matrix\n",
    "\n",
    "[make_union documentation](http://scikit-learn.org/stable/modules/generated/sklearn.pipeline.make_union.html) and\n",
    "[Pipeline documentation](http://scikit-learn.org/stable/modules/generated/sklearn.pipeline.Pipeline.html) and [FeatureUnion documentation](http://scikit-learn.org/stable/modules/generated/sklearn.pipeline.FeatureUnion.html)"
   ]
  },
  {
   "cell_type": "code",
   "execution_count": 19,
   "metadata": {
    "collapsed": false
   },
   "outputs": [],
   "source": [
    "from sklearn.pipeline import make_pipeline, make_union\n",
    "from sklearn.preprocessing import FunctionTransformer\n",
    "\n",
    "pipelines = []\n",
    "\n",
    "def get_feature_text(col):\n",
    "    \n",
    "    def get_text(df):\n",
    "        return df[col].fillna(\"\")\n",
    "    \n",
    "    return get_text\n",
    "\n",
    "# Build a Document Term Matrix using CountVectorizer for ALL Text Columns defined in text_features list.\n",
    "for col in text_features:\n",
    "    get_text_ft = FunctionTransformer(get_feature_text(col), validate=False)\n",
    "    pipelines.append(make_pipeline(get_text_ft, CountVectorizer(decode_error='ignore')))\n",
    "\n",
    "# Add the Numeric Data into the pipeline\n",
    "get_numeric_features = gen_numeric_features(numeric_features)\n",
    "pipelines.append(FunctionTransformer(get_numeric_features, validate=False))\n",
    "\n",
    "union = make_union(*pipelines)"
   ]
  },
  {
   "cell_type": "markdown",
   "metadata": {},
   "source": [
    "- Split the dataset into train/test/split partitions"
   ]
  },
  {
   "cell_type": "code",
   "execution_count": 21,
   "metadata": {
    "collapsed": true
   },
   "outputs": [],
   "source": [
    "X_train, X_test, y_train, y_test = train_test_split(terrorism_98[all_features], terrorism_98.gname, \n",
    "                                                    test_size=0.3, random_state=15)"
   ]
  },
  {
   "cell_type": "markdown",
   "metadata": {},
   "source": [
    "- Create new X_train, X_test based on the combined union of numeric and text features transformed to a document-type matrix"
   ]
  },
  {
   "cell_type": "code",
   "execution_count": 22,
   "metadata": {
    "collapsed": false
   },
   "outputs": [],
   "source": [
    "X_train_dtm = union.fit_transform(X_train)\n",
    "X_test_dtm = union.transform(X_test)"
   ]
  },
  {
   "cell_type": "markdown",
   "metadata": {},
   "source": [
    "- Create new X set to represent out of sample data that models will use to predict terrorist attack group\n",
    "- Note, because this is out of sample, accuracy can't be determined unless the Global Terrorism Database can verify"
   ]
  },
  {
   "cell_type": "code",
   "execution_count": 23,
   "metadata": {
    "collapsed": false
   },
   "outputs": [],
   "source": [
    "x_new_dtm = union.transform(terrorism_98_nognames)"
   ]
  },
  {
   "cell_type": "markdown",
   "metadata": {},
   "source": [
    "## Part 5: Model Evaluation"
   ]
  },
  {
   "cell_type": "code",
   "execution_count": null,
   "metadata": {
    "collapsed": true
   },
   "outputs": [],
   "source": [
    "from sklearn.cross_validation import train_test_split\n",
    "from sklearn.naive_bayes import GaussianNB\n",
    "from sklearn.svm import SVC\n",
    "from sklearn.tree import DecisionTreeClassifier\n",
    "from sklearn.ensemble import RandomForestClassifier"
   ]
  },
  {
   "cell_type": "markdown",
   "metadata": {},
   "source": [
    "### Logistic Regression"
   ]
  },
  {
   "cell_type": "code",
   "execution_count": 24,
   "metadata": {
    "collapsed": false
   },
   "outputs": [],
   "source": [
    "params_c = np.logspace(-3, 3, 7) # 10^-3 to 10^3"
   ]
  },
  {
   "cell_type": "code",
   "execution_count": 25,
   "metadata": {
    "collapsed": true
   },
   "outputs": [],
   "source": [
    "from sklearn.grid_search import GridSearchCV"
   ]
  },
  {
   "cell_type": "code",
   "execution_count": 26,
   "metadata": {
    "collapsed": false
   },
   "outputs": [
    {
     "data": {
      "text/plain": [
       "array(['Taliban', 'Garo National Liberation Army', 'Boko Haram', ...,\n",
       "       'Taliban', 'Baloch Republican Army (BRA)', 'Chechen Rebels'], dtype=object)"
      ]
     },
     "execution_count": 26,
     "metadata": {},
     "output_type": "execute_result"
    }
   ],
   "source": [
    "logreg_grid_search = GridSearchCV(LogisticRegression(), param_grid={'C': np.logspace(-3, 3, 7)})\n",
    "logreg_grid_search.fit(X_train_dtm, y_train)\n",
    "log_pred_search_pred = logreg_grid_search.predict(X_test_dtm)\n",
    "log_pred_search_pred"
   ]
  },
  {
   "cell_type": "code",
   "execution_count": 27,
   "metadata": {
    "collapsed": false
   },
   "outputs": [
    {
     "name": "stdout",
     "output_type": "stream",
     "text": [
      "0.9261829653\n",
      "             precision    recall  f1-score   support\n",
      "\n",
      "Abu Sayyaf Group (ASG)       0.98      0.98      0.98        87\n",
      "Al-Aqsa Martyrs Brigade       0.88      0.88      0.88        43\n",
      "Al-Nusrah Front       0.94      0.30      0.45        50\n",
      "  Al-Qa`ida       1.00      0.38      0.56        13\n",
      "Al-Qa`ida in Iraq       0.81      0.99      0.89       190\n",
      "Al-Qa`ida in the Arabian Peninsula (AQAP)       0.97      0.99      0.98       229\n",
      "Al-Qa`ida in the Lands of the Islamic Maghreb (AQLIM)       0.74      0.74      0.74        68\n",
      " Al-Shabaab       0.97      1.00      0.98       513\n",
      "Algerian Islamic Extremists       1.00      1.00      1.00       106\n",
      "Allied Democratic Forces (ADF)       0.96      0.88      0.92        25\n",
      "Animal Liberation Front (ALF)       1.00      0.85      0.92        20\n",
      "Ansar Bayt al-Maqdis (Ansar Jerusalem)       1.00      1.00      1.00        26\n",
      "Armed Islamic Group (GIA)       0.82      0.89      0.85        36\n",
      "Baloch Liberation Army (BLA)       0.97      0.83      0.90        36\n",
      "Baloch Liberation Front (BLF)       0.90      0.90      0.90        21\n",
      "Baloch Republican Army (BRA)       0.98      0.97      0.98        65\n",
      "Bangsamoro Islamic Freedom Movement (BIFM)       1.00      1.00      1.00        56\n",
      "Basque Fatherland and Freedom (ETA)       0.99      1.00      0.99        73\n",
      " Boko Haram       0.97      1.00      0.98       388\n",
      "Chechen Rebels       0.78      0.84      0.81        99\n",
      "Communist Party of India - Maoist (CPI-Maoist)       0.99      0.99      0.99       422\n",
      "Conspiracy of Cells of Fire       1.00      0.95      0.97        19\n",
      "Corsican National Liberation Front (FLNC)       1.00      0.97      0.99        36\n",
      "Donetsk People's Republic       1.00      1.00      1.00       100\n",
      "Earth Liberation Front (ELF)       0.93      0.82      0.87        17\n",
      "Free Aceh Movement (GAM)       1.00      1.00      1.00        23\n",
      "Free Syrian Army       1.00      0.11      0.19        19\n",
      "Fulani Militants       1.00      0.89      0.94        62\n",
      "Garo National Liberation Army       1.00      1.00      1.00        31\n",
      "     Gunmen       0.94      0.89      0.91        88\n",
      "Hamas (Islamic Resistance Movement)       0.92      0.92      0.92        95\n",
      "Haqqani Network       1.00      0.36      0.53        22\n",
      "  Hizballah       0.72      1.00      0.84        21\n",
      "Hizbul Mujahideen (HM)       0.95      0.88      0.91        40\n",
      "     Huthis       0.89      0.88      0.88        48\n",
      " Individual       0.77      0.67      0.72       119\n",
      "Islamic State of Iraq (ISI)       0.88      0.34      0.49        41\n",
      "Islamic State of Iraq and the Levant (ISIL)       0.96      1.00      0.98       485\n",
      "Janatantrik Terai Mukti Morcha- Jwala Singh (JTMM-J)       1.00      0.96      0.98        28\n",
      "  Janjaweed       0.96      0.96      0.96        24\n",
      "Jemaah Islamiya (JI)       1.00      0.93      0.96        28\n",
      "Kurdistan Workers' Party (PKK)       0.98      1.00      0.99       130\n",
      "Lashkar-e-Islam (Pakistan)       0.93      0.88      0.90        32\n",
      "Lashkar-e-Jhangvi       0.95      0.76      0.84        25\n",
      "Lashkar-e-Taiba (LeT)       0.81      0.80      0.80        49\n",
      "Liberation Tigers of Tamil Eelam (LTTE)       0.89      0.97      0.93       204\n",
      "Lord's Resistance Army (LRA)       0.77      0.61      0.68        61\n",
      "Luhansk People's Republic       1.00      1.00      1.00        34\n",
      "    Maoists       0.93      0.98      0.96       257\n",
      "  Militants       0.84      0.76      0.80        21\n",
      "Moro Islamic Liberation Front (MILF)       0.87      0.99      0.92        91\n",
      "Movement for the Emancipation of the Niger Delta (MEND)       0.95      1.00      0.98        20\n",
      "Muslim Fundamentalists       0.94      0.88      0.91        77\n",
      "National Democratic Front of Bodoland (NDFB)       0.97      0.85      0.91        46\n",
      "National Liberation Army of Colombia (ELN)       0.96      0.91      0.93        75\n",
      "National Liberation Front of Tripura (NLFT)       1.00      1.00      1.00        20\n",
      "National Socialist Council of Nagaland-Isak-Muivah (NSCN-IM)       1.00      0.93      0.96        14\n",
      "National Union for the Total Independence of Angola (UNITA)       1.00      0.36      0.53        44\n",
      "New People's Army (NPA)       0.77      0.83      0.80       272\n",
      "      Other       0.46      0.28      0.35       139\n",
      "Palestinian Islamic Jihad (PIJ)       0.94      0.85      0.89        53\n",
      "People's War Group (PWG)       0.94      0.94      0.94        16\n",
      "Popular Front for the Liberation of Palestine (PFLP)       1.00      0.94      0.97        18\n",
      "Revolutionary Armed Forces of Colombia (FARC)       0.94      1.00      0.97       379\n",
      "Runda Kumpulan Kecil (RKK)       1.00      0.95      0.97        19\n",
      "Salafist Group for Preaching and Fighting (GSPC)       0.97      0.98      0.98        61\n",
      "Separatists       0.95      0.92      0.94        88\n",
      "Southern Mobility Movement (Yemen)       0.94      1.00      0.97        16\n",
      "    Taliban       0.97      0.99      0.98      1266\n",
      "Tehrik-i-Taliban Pakistan (TTP)       0.81      0.94      0.87       332\n",
      "Thai Islamic Militants       1.00      0.75      0.86        16\n",
      "  Tribesmen       0.94      0.74      0.83        23\n",
      "United Baloch Army (UBA)       1.00      0.89      0.94        19\n",
      "United Liberation Front of Assam (ULFA)       0.97      1.00      0.99        78\n",
      "United Self Defense Units of Colombia (AUC)       1.00      0.39      0.56        18\n",
      "\n",
      "avg / total       0.93      0.93      0.92      7925\n",
      "\n"
     ]
    }
   ],
   "source": [
    "print metrics.accuracy_score(y_test, log_pred_search_pred)\n",
    "print metrics.classification_report(y_test, log_pred_search_pred)\n",
    "# Precision: True Pos / (True pos + False Positives)\n",
    "# Recall: True Pos / (true pos + false negatives)"
   ]
  },
  {
   "cell_type": "code",
   "execution_count": 29,
   "metadata": {
    "collapsed": false
   },
   "outputs": [
    {
     "data": {
      "text/plain": [
       "{'C': 1000.0}"
      ]
     },
     "execution_count": 29,
     "metadata": {},
     "output_type": "execute_result"
    }
   ],
   "source": [
    "logreg_grid_search.best_params_"
   ]
  },
  {
   "cell_type": "code",
   "execution_count": 30,
   "metadata": {
    "collapsed": false
   },
   "outputs": [
    {
     "data": {
      "text/plain": [
       "[mean: 0.69746, std: 0.00418, params: {'C': 0.001},\n",
       " mean: 0.88551, std: 0.00936, params: {'C': 0.01},\n",
       " mean: 0.93294, std: 0.01248, params: {'C': 0.10000000000000001},\n",
       " mean: 0.92872, std: 0.01120, params: {'C': 1.0},\n",
       " mean: 0.93186, std: 0.01243, params: {'C': 10.0},\n",
       " mean: 0.93294, std: 0.01370, params: {'C': 100.0},\n",
       " mean: 0.93375, std: 0.00960, params: {'C': 1000.0}]"
      ]
     },
     "execution_count": 30,
     "metadata": {},
     "output_type": "execute_result"
    }
   ],
   "source": [
    "logreg_grid_search.grid_scores_"
   ]
  },
  {
   "cell_type": "code",
   "execution_count": 31,
   "metadata": {
    "collapsed": false
   },
   "outputs": [
    {
     "data": {
      "text/plain": [
       "0.93374797187669012"
      ]
     },
     "execution_count": 31,
     "metadata": {},
     "output_type": "execute_result"
    }
   ],
   "source": [
    "logreg_grid_search.best_score_"
   ]
  },
  {
   "cell_type": "code",
   "execution_count": 32,
   "metadata": {
    "collapsed": true
   },
   "outputs": [],
   "source": [
    "from sklearn.metrics import confusion_matrix\n",
    "from sklearn.metrics import classification_report"
   ]
  },
  {
   "cell_type": "code",
   "execution_count": 33,
   "metadata": {
    "collapsed": false
   },
   "outputs": [
    {
     "data": {
      "text/plain": [
       "array([[85,  0,  0, ...,  0,  0,  0],\n",
       "       [ 0, 38,  0, ...,  0,  0,  0],\n",
       "       [ 0,  0, 15, ...,  0,  0,  0],\n",
       "       ..., \n",
       "       [ 0,  0,  0, ..., 17,  0,  0],\n",
       "       [ 0,  0,  0, ...,  0, 78,  0],\n",
       "       [ 0,  0,  0, ...,  0,  0,  7]])"
      ]
     },
     "execution_count": 33,
     "metadata": {},
     "output_type": "execute_result"
    }
   ],
   "source": [
    "confusion_matrix(y_test,logreg_grid_search.predict(X_test_dtm))\n",
    "# diagnoal is good. Anything not in diagnoal is misclassified"
   ]
  },
  {
   "cell_type": "code",
   "execution_count": 34,
   "metadata": {
    "collapsed": false
   },
   "outputs": [
    {
     "name": "stdout",
     "output_type": "stream",
     "text": [
      "             precision    recall  f1-score   support\n",
      "\n",
      "Abu Sayyaf Group (ASG)       0.98      0.98      0.98        87\n",
      "Al-Aqsa Martyrs Brigade       0.88      0.88      0.88        43\n",
      "Al-Nusrah Front       0.94      0.30      0.45        50\n",
      "  Al-Qa`ida       1.00      0.38      0.56        13\n",
      "Al-Qa`ida in Iraq       0.81      0.99      0.89       190\n",
      "Al-Qa`ida in the Arabian Peninsula (AQAP)       0.97      0.99      0.98       229\n",
      "Al-Qa`ida in the Lands of the Islamic Maghreb (AQLIM)       0.74      0.74      0.74        68\n",
      " Al-Shabaab       0.97      1.00      0.98       513\n",
      "Algerian Islamic Extremists       1.00      1.00      1.00       106\n",
      "Allied Democratic Forces (ADF)       0.96      0.88      0.92        25\n",
      "Animal Liberation Front (ALF)       1.00      0.85      0.92        20\n",
      "Ansar Bayt al-Maqdis (Ansar Jerusalem)       1.00      1.00      1.00        26\n",
      "Armed Islamic Group (GIA)       0.82      0.89      0.85        36\n",
      "Baloch Liberation Army (BLA)       0.97      0.83      0.90        36\n",
      "Baloch Liberation Front (BLF)       0.90      0.90      0.90        21\n",
      "Baloch Republican Army (BRA)       0.98      0.97      0.98        65\n",
      "Bangsamoro Islamic Freedom Movement (BIFM)       1.00      1.00      1.00        56\n",
      "Basque Fatherland and Freedom (ETA)       0.99      1.00      0.99        73\n",
      " Boko Haram       0.97      1.00      0.98       388\n",
      "Chechen Rebels       0.78      0.84      0.81        99\n",
      "Communist Party of India - Maoist (CPI-Maoist)       0.99      0.99      0.99       422\n",
      "Conspiracy of Cells of Fire       1.00      0.95      0.97        19\n",
      "Corsican National Liberation Front (FLNC)       1.00      0.97      0.99        36\n",
      "Donetsk People's Republic       1.00      1.00      1.00       100\n",
      "Earth Liberation Front (ELF)       0.93      0.82      0.87        17\n",
      "Free Aceh Movement (GAM)       1.00      1.00      1.00        23\n",
      "Free Syrian Army       1.00      0.11      0.19        19\n",
      "Fulani Militants       1.00      0.89      0.94        62\n",
      "Garo National Liberation Army       1.00      1.00      1.00        31\n",
      "     Gunmen       0.94      0.89      0.91        88\n",
      "Hamas (Islamic Resistance Movement)       0.92      0.92      0.92        95\n",
      "Haqqani Network       1.00      0.36      0.53        22\n",
      "  Hizballah       0.72      1.00      0.84        21\n",
      "Hizbul Mujahideen (HM)       0.95      0.88      0.91        40\n",
      "     Huthis       0.89      0.88      0.88        48\n",
      " Individual       0.77      0.67      0.72       119\n",
      "Islamic State of Iraq (ISI)       0.88      0.34      0.49        41\n",
      "Islamic State of Iraq and the Levant (ISIL)       0.96      1.00      0.98       485\n",
      "Janatantrik Terai Mukti Morcha- Jwala Singh (JTMM-J)       1.00      0.96      0.98        28\n",
      "  Janjaweed       0.96      0.96      0.96        24\n",
      "Jemaah Islamiya (JI)       1.00      0.93      0.96        28\n",
      "Kurdistan Workers' Party (PKK)       0.98      1.00      0.99       130\n",
      "Lashkar-e-Islam (Pakistan)       0.93      0.88      0.90        32\n",
      "Lashkar-e-Jhangvi       0.95      0.76      0.84        25\n",
      "Lashkar-e-Taiba (LeT)       0.81      0.80      0.80        49\n",
      "Liberation Tigers of Tamil Eelam (LTTE)       0.89      0.97      0.93       204\n",
      "Lord's Resistance Army (LRA)       0.77      0.61      0.68        61\n",
      "Luhansk People's Republic       1.00      1.00      1.00        34\n",
      "    Maoists       0.93      0.98      0.96       257\n",
      "  Militants       0.84      0.76      0.80        21\n",
      "Moro Islamic Liberation Front (MILF)       0.87      0.99      0.92        91\n",
      "Movement for the Emancipation of the Niger Delta (MEND)       0.95      1.00      0.98        20\n",
      "Muslim Fundamentalists       0.94      0.88      0.91        77\n",
      "National Democratic Front of Bodoland (NDFB)       0.97      0.85      0.91        46\n",
      "National Liberation Army of Colombia (ELN)       0.96      0.91      0.93        75\n",
      "National Liberation Front of Tripura (NLFT)       1.00      1.00      1.00        20\n",
      "National Socialist Council of Nagaland-Isak-Muivah (NSCN-IM)       1.00      0.93      0.96        14\n",
      "National Union for the Total Independence of Angola (UNITA)       1.00      0.36      0.53        44\n",
      "New People's Army (NPA)       0.77      0.83      0.80       272\n",
      "      Other       0.46      0.28      0.35       139\n",
      "Palestinian Islamic Jihad (PIJ)       0.94      0.85      0.89        53\n",
      "People's War Group (PWG)       0.94      0.94      0.94        16\n",
      "Popular Front for the Liberation of Palestine (PFLP)       1.00      0.94      0.97        18\n",
      "Revolutionary Armed Forces of Colombia (FARC)       0.94      1.00      0.97       379\n",
      "Runda Kumpulan Kecil (RKK)       1.00      0.95      0.97        19\n",
      "Salafist Group for Preaching and Fighting (GSPC)       0.97      0.98      0.98        61\n",
      "Separatists       0.95      0.92      0.94        88\n",
      "Southern Mobility Movement (Yemen)       0.94      1.00      0.97        16\n",
      "    Taliban       0.97      0.99      0.98      1266\n",
      "Tehrik-i-Taliban Pakistan (TTP)       0.81      0.94      0.87       332\n",
      "Thai Islamic Militants       1.00      0.75      0.86        16\n",
      "  Tribesmen       0.94      0.74      0.83        23\n",
      "United Baloch Army (UBA)       1.00      0.89      0.94        19\n",
      "United Liberation Front of Assam (ULFA)       0.97      1.00      0.99        78\n",
      "United Self Defense Units of Colombia (AUC)       1.00      0.39      0.56        18\n",
      "\n",
      "avg / total       0.93      0.93      0.92      7925\n",
      "\n"
     ]
    }
   ],
   "source": [
    "print classification_report(y_test,logreg_grid_search.predict(X_test_dtm))"
   ]
  },
  {
   "cell_type": "markdown",
   "metadata": {
    "collapsed": true
   },
   "source": [
    "### KNN"
   ]
  },
  {
   "cell_type": "code",
   "execution_count": 35,
   "metadata": {
    "collapsed": true
   },
   "outputs": [],
   "source": [
    "knn_grid_search = GridSearchCV(KNeighborsClassifier(), param_grid={'n_neighbors': range(3, 22, 2)})"
   ]
  },
  {
   "cell_type": "code",
   "execution_count": 36,
   "metadata": {
    "collapsed": false
   },
   "outputs": [
    {
     "data": {
      "text/plain": [
       "GridSearchCV(cv=None, error_score='raise',\n",
       "       estimator=KNeighborsClassifier(algorithm='auto', leaf_size=30, metric='minkowski',\n",
       "           metric_params=None, n_jobs=1, n_neighbors=5, p=2,\n",
       "           weights='uniform'),\n",
       "       fit_params={}, iid=True, n_jobs=1,\n",
       "       param_grid={'n_neighbors': [3, 5, 7, 9, 11, 13, 15, 17, 19, 21]},\n",
       "       pre_dispatch='2*n_jobs', refit=True, scoring=None, verbose=0)"
      ]
     },
     "execution_count": 36,
     "metadata": {},
     "output_type": "execute_result"
    }
   ],
   "source": [
    "knn_grid_search.fit(X_train_dtm, y_train)"
   ]
  },
  {
   "cell_type": "code",
   "execution_count": 37,
   "metadata": {
    "collapsed": false
   },
   "outputs": [
    {
     "data": {
      "text/plain": [
       "(18490, 75079)"
      ]
     },
     "execution_count": 37,
     "metadata": {},
     "output_type": "execute_result"
    }
   ],
   "source": [
    "X_train_dtm.shape"
   ]
  },
  {
   "cell_type": "code",
   "execution_count": 38,
   "metadata": {
    "collapsed": false
   },
   "outputs": [
    {
     "data": {
      "text/plain": [
       "0.71411573823688479"
      ]
     },
     "execution_count": 38,
     "metadata": {},
     "output_type": "execute_result"
    }
   ],
   "source": [
    "knn_grid_search.best_score_"
   ]
  },
  {
   "cell_type": "code",
   "execution_count": 39,
   "metadata": {
    "collapsed": false
   },
   "outputs": [
    {
     "data": {
      "text/plain": [
       "{'n_neighbors': 5}"
      ]
     },
     "execution_count": 39,
     "metadata": {},
     "output_type": "execute_result"
    }
   ],
   "source": [
    "knn_grid_search.best_params_"
   ]
  },
  {
   "cell_type": "code",
   "execution_count": 40,
   "metadata": {
    "collapsed": false
   },
   "outputs": [
    {
     "name": "stdout",
     "output_type": "stream",
     "text": [
      "0.721892744479\n"
     ]
    }
   ],
   "source": [
    "knn = KNeighborsClassifier(n_neighbors=5)\n",
    "knn.fit(X_train_dtm, y_train)\n",
    "knn_pred = knn.predict(X_test_dtm)\n",
    "print metrics.accuracy_score(y_test, knn_pred)"
   ]
  },
  {
   "cell_type": "markdown",
   "metadata": {
    "collapsed": true
   },
   "source": [
    "### Naive Bayes"
   ]
  },
  {
   "cell_type": "code",
   "execution_count": 54,
   "metadata": {
    "collapsed": false
   },
   "outputs": [
    {
     "data": {
      "text/plain": [
       "0.83848580441640375"
      ]
     },
     "execution_count": 54,
     "metadata": {},
     "output_type": "execute_result"
    }
   ],
   "source": [
    "nb_model = GaussianNB()\n",
    "nb_model.fit(X_train_dtm.toarray(),y_train) # Use X.toarray() to convert to a dense numpy array due to sparse matrix\n",
    "nb_model.score(X_test_dtm.toarray(),y_test)"
   ]
  },
  {
   "cell_type": "markdown",
   "metadata": {
    "collapsed": true
   },
   "source": [
    "### Decision Tree"
   ]
  },
  {
   "cell_type": "code",
   "execution_count": 42,
   "metadata": {
    "collapsed": true
   },
   "outputs": [],
   "source": [
    "params_c = np.logspace(-3, 3, 7) # 10^-3 to 10^3\n",
    "logreg_grid_search = GridSearchCV(LogisticRegression(), param_grid={'max_depth': [100,500,1000,10000]})\n",
    "# C is cost function. The lower value of C, the lower the complexity of the model. "
   ]
  },
  {
   "cell_type": "code",
   "execution_count": 43,
   "metadata": {
    "collapsed": false
   },
   "outputs": [
    {
     "data": {
      "text/plain": [
       "GridSearchCV(cv=None, error_score='raise',\n",
       "       estimator=DecisionTreeClassifier(class_weight=None, criterion='gini', max_depth=None,\n",
       "            max_features=None, max_leaf_nodes=None, min_samples_leaf=1,\n",
       "            min_samples_split=2, min_weight_fraction_leaf=0.0,\n",
       "            presort=False, random_state=None, splitter='best'),\n",
       "       fit_params={}, iid=True, n_jobs=1,\n",
       "       param_grid={'max_depth': array([  1.00000e-03,   1.58489e-02,   2.51189e-01,   3.98107e+00,\n",
       "         6.30957e+01,   1.00000e+03])},\n",
       "       pre_dispatch='2*n_jobs', refit=True, scoring=None, verbose=0)"
      ]
     },
     "execution_count": 43,
     "metadata": {},
     "output_type": "execute_result"
    }
   ],
   "source": [
    "tree_grid_search = GridSearchCV(DecisionTreeClassifier(), param_grid={'max_depth': np.logspace(-3, 3, 6)})\n",
    "tree_grid_search.fit(X_train_dtm, y_train)"
   ]
  },
  {
   "cell_type": "code",
   "execution_count": 44,
   "metadata": {
    "collapsed": false
   },
   "outputs": [
    {
     "data": {
      "text/plain": [
       "{'max_depth': 1000.0}"
      ]
     },
     "execution_count": 44,
     "metadata": {},
     "output_type": "execute_result"
    }
   ],
   "source": [
    "tree_grid_search.best_params_"
   ]
  },
  {
   "cell_type": "code",
   "execution_count": 45,
   "metadata": {
    "collapsed": false
   },
   "outputs": [
    {
     "data": {
      "text/plain": [
       "0.94786371011357495"
      ]
     },
     "execution_count": 45,
     "metadata": {},
     "output_type": "execute_result"
    }
   ],
   "source": [
    "tree_grid_search.best_score_"
   ]
  },
  {
   "cell_type": "markdown",
   "metadata": {
    "collapsed": true
   },
   "source": [
    "### Random Forest"
   ]
  },
  {
   "cell_type": "code",
   "execution_count": 46,
   "metadata": {
    "collapsed": true
   },
   "outputs": [],
   "source": [
    "forest_grid_search = GridSearchCV(RandomForestClassifier(), param_grid={'n_estimators': [10,100,1000]})\n",
    "# of trees in n_estimators"
   ]
  },
  {
   "cell_type": "code",
   "execution_count": 47,
   "metadata": {
    "collapsed": false
   },
   "outputs": [
    {
     "data": {
      "text/plain": [
       "GridSearchCV(cv=None, error_score='raise',\n",
       "       estimator=RandomForestClassifier(bootstrap=True, class_weight=None, criterion='gini',\n",
       "            max_depth=None, max_features='auto', max_leaf_nodes=None,\n",
       "            min_samples_leaf=1, min_samples_split=2,\n",
       "            min_weight_fraction_leaf=0.0, n_estimators=10, n_jobs=1,\n",
       "            oob_score=False, random_state=None, verbose=0,\n",
       "            warm_start=False),\n",
       "       fit_params={}, iid=True, n_jobs=1,\n",
       "       param_grid={'n_estimators': [10, 100, 1000]},\n",
       "       pre_dispatch='2*n_jobs', refit=True, scoring=None, verbose=0)"
      ]
     },
     "execution_count": 47,
     "metadata": {},
     "output_type": "execute_result"
    }
   ],
   "source": [
    "forest_grid_search.fit(X_train_dtm, y_train)"
   ]
  },
  {
   "cell_type": "code",
   "execution_count": 48,
   "metadata": {
    "collapsed": false
   },
   "outputs": [
    {
     "data": {
      "text/plain": [
       "{'n_estimators': 1000}"
      ]
     },
     "execution_count": 48,
     "metadata": {},
     "output_type": "execute_result"
    }
   ],
   "source": [
    "forest_grid_search.best_params_"
   ]
  },
  {
   "cell_type": "code",
   "execution_count": 49,
   "metadata": {
    "collapsed": false
   },
   "outputs": [
    {
     "data": {
      "text/plain": [
       "0.94726879394267172"
      ]
     },
     "execution_count": 49,
     "metadata": {},
     "output_type": "execute_result"
    }
   ],
   "source": [
    "forest_grid_search.best_score_"
   ]
  },
  {
   "cell_type": "markdown",
   "metadata": {
    "collapsed": true
   },
   "source": [
    "### SVC"
   ]
  },
  {
   "cell_type": "code",
   "execution_count": 50,
   "metadata": {
    "collapsed": true
   },
   "outputs": [],
   "source": [
    "svc_grid_search = GridSearchCV(SVC(), param_grid={'C': [.01,1,100]})"
   ]
  },
  {
   "cell_type": "code",
   "execution_count": 51,
   "metadata": {
    "collapsed": false
   },
   "outputs": [
    {
     "data": {
      "text/plain": [
       "GridSearchCV(cv=None, error_score='raise',\n",
       "       estimator=SVC(C=1.0, cache_size=200, class_weight=None, coef0=0.0,\n",
       "  decision_function_shape=None, degree=3, gamma='auto', kernel='rbf',\n",
       "  max_iter=-1, probability=False, random_state=None, shrinking=True,\n",
       "  tol=0.001, verbose=False),\n",
       "       fit_params={}, iid=True, n_jobs=1, param_grid={'C': [0.01, 1, 100]},\n",
       "       pre_dispatch='2*n_jobs', refit=True, scoring=None, verbose=0)"
      ]
     },
     "execution_count": 51,
     "metadata": {},
     "output_type": "execute_result"
    }
   ],
   "source": [
    "svc_grid_search.fit(X_train_dtm, y_train)"
   ]
  },
  {
   "cell_type": "code",
   "execution_count": 52,
   "metadata": {
    "collapsed": false
   },
   "outputs": [
    {
     "data": {
      "text/plain": [
       "{'C': 100}"
      ]
     },
     "execution_count": 52,
     "metadata": {},
     "output_type": "execute_result"
    }
   ],
   "source": [
    "svc_grid_search.best_params_"
   ]
  },
  {
   "cell_type": "code",
   "execution_count": 53,
   "metadata": {
    "collapsed": false
   },
   "outputs": [
    {
     "data": {
      "text/plain": [
       "0.88561384532179555"
      ]
     },
     "execution_count": 53,
     "metadata": {},
     "output_type": "execute_result"
    }
   ],
   "source": [
    "svc_grid_search.best_score_"
   ]
  },
  {
   "cell_type": "markdown",
   "metadata": {
    "collapsed": true
   },
   "source": [
    "### Best Model"
   ]
  },
  {
   "cell_type": "code",
   "execution_count": 2,
   "metadata": {
    "collapsed": true
   },
   "outputs": [],
   "source": [
    "from sklearn.cross_validation import cross_val_score\n",
    "from sklearn.ensemble import VotingClassifier"
   ]
  },
  {
   "cell_type": "code",
   "execution_count": null,
   "metadata": {
    "collapsed": true
   },
   "outputs": [],
   "source": [
    "clf1 = LogisticRegression(C=1000,random_state=1)\n",
    "clf2 = RandomForestClassifier(n_estimators=1000,random_state=1)\n",
    "clf3 = KNeighborsClassifier(n_neighbors=5)\n",
    "clf4 = SVC(C=100)\n",
    "# Hard: Everyone has a vote and will take a majority of the \"Yes\" votes. \n",
    "# Soft: It adds all the probabilites, then averages the probabilites, takes the best."
   ]
  },
  {
   "cell_type": "code",
   "execution_count": 62,
   "metadata": {
    "collapsed": false
   },
   "outputs": [
    {
     "name": "stdout",
     "output_type": "stream",
     "text": [
      "['Taliban' 'Garo National Liberation Army' 'Boko Haram' ..., 'Taliban'\n",
      " 'Baloch Republican Army (BRA)' 'Chechen Rebels']\n",
      "0.932870662461\n"
     ]
    }
   ],
   "source": [
    "eclf1 = VotingClassifier(estimators=[('lr', clf1), ('rf', clf2), ('knn', clf3),('SVC',clf4)], voting='hard')\n",
    "eclf1 = eclf1.fit(X_train_dtm, y_train)\n",
    "print(eclf1.predict(X_test_dtm))\n",
    "print(eclf1.score(X_test_dtm,y_test)) #automatically does cross validation"
   ]
  },
  {
   "cell_type": "code",
   "execution_count": 64,
   "metadata": {
    "collapsed": false
   },
   "outputs": [
    {
     "name": "stdout",
     "output_type": "stream",
     "text": [
      "['Taliban' 'Garo National Liberation Army' 'Boko Haram' ..., 'Taliban'\n",
      " 'Baloch Republican Army (BRA)' 'Chechen Rebels']\n",
      "0.926561514196\n"
     ]
    }
   ],
   "source": [
    "eclf2 = VotingClassifier(estimators=[('lr', clf1), ('rf', clf2), ('knn', clf3)],voting='soft')\n",
    "eclf2 = eclf2.fit(X_train_dtm, y_train)\n",
    "print(eclf2.predict(X_test_dtm))\n",
    "print(eclf2.score(X_test_dtm,y_test))"
   ]
  },
  {
   "cell_type": "markdown",
   "metadata": {
    "collapsed": true
   },
   "source": [
    "## Part 6: Insights/Conclusions"
   ]
  },
  {
   "cell_type": "markdown",
   "metadata": {},
   "source": [
    "- Created stored predictions for out of sample data based on each model"
   ]
  },
  {
   "cell_type": "code",
   "execution_count": null,
   "metadata": {
    "collapsed": false
   },
   "outputs": [],
   "source": [
    "y_new_logreg = logreg_grid_search.predict(x_new_dtm,delegate='estimator')"
   ]
  },
  {
   "cell_type": "code",
   "execution_count": 68,
   "metadata": {
    "collapsed": true
   },
   "outputs": [],
   "source": [
    "y_new_knn = knn.predict(x_new_dtm)"
   ]
  },
  {
   "cell_type": "code",
   "execution_count": null,
   "metadata": {
    "collapsed": true
   },
   "outputs": [],
   "source": [
    "y_new_nb = nb_model.predict(x_new_dtm.toarray())"
   ]
  },
  {
   "cell_type": "code",
   "execution_count": null,
   "metadata": {
    "collapsed": true
   },
   "outputs": [],
   "source": [
    "y_new_tree = tree_grid_search.predict(x_new_dtm,delegate='estimator')"
   ]
  },
  {
   "cell_type": "code",
   "execution_count": null,
   "metadata": {
    "collapsed": true
   },
   "outputs": [],
   "source": [
    "y_new_forest = forest_grid_search.predict(x_new_dtm,delegate='estimator')"
   ]
  },
  {
   "cell_type": "code",
   "execution_count": null,
   "metadata": {
    "collapsed": true
   },
   "outputs": [],
   "source": [
    "y_new_svc = svc_grid_search.predict(x_new_dtm,delegate='estimator')"
   ]
  },
  {
   "cell_type": "markdown",
   "metadata": {},
   "source": [
    "#### Model Ranking by Accuracy Score"
   ]
  },
  {
   "cell_type": "markdown",
   "metadata": {},
   "source": [
    "- Tree Grid Search: 0.9478\n",
    "- Forest Grid Search: 0.9472\n",
    "- Logistic Regression Grid Search: 0.9337 \n",
    "- eclf1 Voting Classifier: Hard Vote: 0.9328\n",
    "- eclf2 Voting Classifier: Soft Vote: 0.9265\n",
    "- SVC Grid Search: 0.8856\n",
    "- Naive Bayes: 0.8384\n",
    "- KNN Grid Search: 0.7218"
   ]
  },
  {
   "cell_type": "markdown",
   "metadata": {},
   "source": [
    "#### These machine learning models classified the terrorist attack group with fairly high accuracy. \n",
    "#### The decision tree grid seach model perfomed the best with an accuracy score of .9478."
   ]
  },
  {
   "cell_type": "markdown",
   "metadata": {},
   "source": [
    "Limitations: It is important to note that these models were tested on a dataset with data starting from the year 1998 and where terrorist attack groups were filtered to include only attacks by a group that occured at least 50 times in the dataset.  "
   ]
  }
 ],
 "metadata": {
  "kernelspec": {
   "display_name": "Python 2",
   "language": "python",
   "name": "python2"
  },
  "language_info": {
   "codemirror_mode": {
    "name": "ipython",
    "version": 2
   },
   "file_extension": ".py",
   "mimetype": "text/x-python",
   "name": "python",
   "nbconvert_exporter": "python",
   "pygments_lexer": "ipython2",
   "version": "2.7.11"
  }
 },
 "nbformat": 4,
 "nbformat_minor": 0
}
